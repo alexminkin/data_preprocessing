{
 "cells": [
  {
   "cell_type": "markdown",
   "id": "c81daeeb",
   "metadata": {
    "deletable": false,
    "id": "c81daeeb"
   },
   "source": [
    "# Borrower reliability study"
   ]
  },
  {
   "cell_type": "markdown",
   "id": "827c20bf",
   "metadata": {
    "id": "827c20bf"
   },
   "source": [
    "Во второй части проекта вы выполните шаги 3 и 4. Их вручную проверит ревьюер.\n",
    "Чтобы вам не пришлось писать код заново для шагов 1 и 2, мы добавили авторские решения в ячейки с кодом. \n",
    "\n"
   ]
  },
  {
   "cell_type": "markdown",
   "id": "744d7639",
   "metadata": {
    "deletable": false,
    "id": "744d7639"
   },
   "source": [
    "## Open the table and learn general information about the data"
   ]
  },
  {
   "cell_type": "markdown",
   "id": "e7a14c31",
   "metadata": {
    "deletable": false,
    "id": "e7a14c31"
   },
   "source": [
    "**Import the library Pandas and store the dataframe in a variable**"
   ]
  },
  {
   "cell_type": "code",
   "execution_count": 8,
   "id": "7bcf75c9",
   "metadata": {
    "deletable": false,
    "id": "7bcf75c9"
   },
   "outputs": [],
   "source": [
    "import pandas as pd\n",
    "data = pd.read_csv('data.csv')"
   ]
  },
  {
   "cell_type": "markdown",
   "id": "b8038fe3",
   "metadata": {
    "deletable": false,
    "id": "b8038fe3"
   },
   "source": [
    "**Output the first 20 rows of the dataframe**"
   ]
  },
  {
   "cell_type": "code",
   "execution_count": 10,
   "id": "2a7cab99",
   "metadata": {
    "deletable": false,
    "id": "2a7cab99",
    "outputId": "1a8f3ef2-d323-4ec2-ddf7-89670b5944c4"
   },
   "outputs": [
    {
     "data": {
      "text/html": [
       "<div>\n",
       "<style scoped>\n",
       "    .dataframe tbody tr th:only-of-type {\n",
       "        vertical-align: middle;\n",
       "    }\n",
       "\n",
       "    .dataframe tbody tr th {\n",
       "        vertical-align: top;\n",
       "    }\n",
       "\n",
       "    .dataframe thead th {\n",
       "        text-align: right;\n",
       "    }\n",
       "</style>\n",
       "<table border=\"1\" class=\"dataframe\">\n",
       "  <thead>\n",
       "    <tr style=\"text-align: right;\">\n",
       "      <th></th>\n",
       "      <th>children</th>\n",
       "      <th>days_employed</th>\n",
       "      <th>dob_years</th>\n",
       "      <th>education</th>\n",
       "      <th>education_id</th>\n",
       "      <th>family_status</th>\n",
       "      <th>family_status_id</th>\n",
       "      <th>gender</th>\n",
       "      <th>income_type</th>\n",
       "      <th>debt</th>\n",
       "      <th>total_income</th>\n",
       "      <th>purpose</th>\n",
       "    </tr>\n",
       "  </thead>\n",
       "  <tbody>\n",
       "    <tr>\n",
       "      <th>0</th>\n",
       "      <td>1</td>\n",
       "      <td>-8437.673028</td>\n",
       "      <td>42</td>\n",
       "      <td>высшее</td>\n",
       "      <td>0</td>\n",
       "      <td>женат / замужем</td>\n",
       "      <td>0</td>\n",
       "      <td>F</td>\n",
       "      <td>сотрудник</td>\n",
       "      <td>0</td>\n",
       "      <td>253875.639453</td>\n",
       "      <td>покупка жилья</td>\n",
       "    </tr>\n",
       "    <tr>\n",
       "      <th>1</th>\n",
       "      <td>1</td>\n",
       "      <td>-4024.803754</td>\n",
       "      <td>36</td>\n",
       "      <td>среднее</td>\n",
       "      <td>1</td>\n",
       "      <td>женат / замужем</td>\n",
       "      <td>0</td>\n",
       "      <td>F</td>\n",
       "      <td>сотрудник</td>\n",
       "      <td>0</td>\n",
       "      <td>112080.014102</td>\n",
       "      <td>приобретение автомобиля</td>\n",
       "    </tr>\n",
       "    <tr>\n",
       "      <th>2</th>\n",
       "      <td>0</td>\n",
       "      <td>-5623.422610</td>\n",
       "      <td>33</td>\n",
       "      <td>Среднее</td>\n",
       "      <td>1</td>\n",
       "      <td>женат / замужем</td>\n",
       "      <td>0</td>\n",
       "      <td>M</td>\n",
       "      <td>сотрудник</td>\n",
       "      <td>0</td>\n",
       "      <td>145885.952297</td>\n",
       "      <td>покупка жилья</td>\n",
       "    </tr>\n",
       "    <tr>\n",
       "      <th>3</th>\n",
       "      <td>3</td>\n",
       "      <td>-4124.747207</td>\n",
       "      <td>32</td>\n",
       "      <td>среднее</td>\n",
       "      <td>1</td>\n",
       "      <td>женат / замужем</td>\n",
       "      <td>0</td>\n",
       "      <td>M</td>\n",
       "      <td>сотрудник</td>\n",
       "      <td>0</td>\n",
       "      <td>267628.550329</td>\n",
       "      <td>дополнительное образование</td>\n",
       "    </tr>\n",
       "    <tr>\n",
       "      <th>4</th>\n",
       "      <td>0</td>\n",
       "      <td>340266.072047</td>\n",
       "      <td>53</td>\n",
       "      <td>среднее</td>\n",
       "      <td>1</td>\n",
       "      <td>гражданский брак</td>\n",
       "      <td>1</td>\n",
       "      <td>F</td>\n",
       "      <td>пенсионер</td>\n",
       "      <td>0</td>\n",
       "      <td>158616.077870</td>\n",
       "      <td>сыграть свадьбу</td>\n",
       "    </tr>\n",
       "    <tr>\n",
       "      <th>5</th>\n",
       "      <td>0</td>\n",
       "      <td>-926.185831</td>\n",
       "      <td>27</td>\n",
       "      <td>высшее</td>\n",
       "      <td>0</td>\n",
       "      <td>гражданский брак</td>\n",
       "      <td>1</td>\n",
       "      <td>M</td>\n",
       "      <td>компаньон</td>\n",
       "      <td>0</td>\n",
       "      <td>255763.565419</td>\n",
       "      <td>покупка жилья</td>\n",
       "    </tr>\n",
       "    <tr>\n",
       "      <th>6</th>\n",
       "      <td>0</td>\n",
       "      <td>-2879.202052</td>\n",
       "      <td>43</td>\n",
       "      <td>высшее</td>\n",
       "      <td>0</td>\n",
       "      <td>женат / замужем</td>\n",
       "      <td>0</td>\n",
       "      <td>F</td>\n",
       "      <td>компаньон</td>\n",
       "      <td>0</td>\n",
       "      <td>240525.971920</td>\n",
       "      <td>операции с жильем</td>\n",
       "    </tr>\n",
       "    <tr>\n",
       "      <th>7</th>\n",
       "      <td>0</td>\n",
       "      <td>-152.779569</td>\n",
       "      <td>50</td>\n",
       "      <td>СРЕДНЕЕ</td>\n",
       "      <td>1</td>\n",
       "      <td>женат / замужем</td>\n",
       "      <td>0</td>\n",
       "      <td>M</td>\n",
       "      <td>сотрудник</td>\n",
       "      <td>0</td>\n",
       "      <td>135823.934197</td>\n",
       "      <td>образование</td>\n",
       "    </tr>\n",
       "    <tr>\n",
       "      <th>8</th>\n",
       "      <td>2</td>\n",
       "      <td>-6929.865299</td>\n",
       "      <td>35</td>\n",
       "      <td>ВЫСШЕЕ</td>\n",
       "      <td>0</td>\n",
       "      <td>гражданский брак</td>\n",
       "      <td>1</td>\n",
       "      <td>F</td>\n",
       "      <td>сотрудник</td>\n",
       "      <td>0</td>\n",
       "      <td>95856.832424</td>\n",
       "      <td>на проведение свадьбы</td>\n",
       "    </tr>\n",
       "    <tr>\n",
       "      <th>9</th>\n",
       "      <td>0</td>\n",
       "      <td>-2188.756445</td>\n",
       "      <td>41</td>\n",
       "      <td>среднее</td>\n",
       "      <td>1</td>\n",
       "      <td>женат / замужем</td>\n",
       "      <td>0</td>\n",
       "      <td>M</td>\n",
       "      <td>сотрудник</td>\n",
       "      <td>0</td>\n",
       "      <td>144425.938277</td>\n",
       "      <td>покупка жилья для семьи</td>\n",
       "    </tr>\n",
       "    <tr>\n",
       "      <th>10</th>\n",
       "      <td>2</td>\n",
       "      <td>-4171.483647</td>\n",
       "      <td>36</td>\n",
       "      <td>высшее</td>\n",
       "      <td>0</td>\n",
       "      <td>женат / замужем</td>\n",
       "      <td>0</td>\n",
       "      <td>M</td>\n",
       "      <td>компаньон</td>\n",
       "      <td>0</td>\n",
       "      <td>113943.491460</td>\n",
       "      <td>покупка недвижимости</td>\n",
       "    </tr>\n",
       "    <tr>\n",
       "      <th>11</th>\n",
       "      <td>0</td>\n",
       "      <td>-792.701887</td>\n",
       "      <td>40</td>\n",
       "      <td>среднее</td>\n",
       "      <td>1</td>\n",
       "      <td>женат / замужем</td>\n",
       "      <td>0</td>\n",
       "      <td>F</td>\n",
       "      <td>сотрудник</td>\n",
       "      <td>0</td>\n",
       "      <td>77069.234271</td>\n",
       "      <td>покупка коммерческой недвижимости</td>\n",
       "    </tr>\n",
       "    <tr>\n",
       "      <th>12</th>\n",
       "      <td>0</td>\n",
       "      <td>NaN</td>\n",
       "      <td>65</td>\n",
       "      <td>среднее</td>\n",
       "      <td>1</td>\n",
       "      <td>гражданский брак</td>\n",
       "      <td>1</td>\n",
       "      <td>M</td>\n",
       "      <td>пенсионер</td>\n",
       "      <td>0</td>\n",
       "      <td>NaN</td>\n",
       "      <td>сыграть свадьбу</td>\n",
       "    </tr>\n",
       "    <tr>\n",
       "      <th>13</th>\n",
       "      <td>0</td>\n",
       "      <td>-1846.641941</td>\n",
       "      <td>54</td>\n",
       "      <td>неоконченное высшее</td>\n",
       "      <td>2</td>\n",
       "      <td>женат / замужем</td>\n",
       "      <td>0</td>\n",
       "      <td>F</td>\n",
       "      <td>сотрудник</td>\n",
       "      <td>0</td>\n",
       "      <td>130458.228857</td>\n",
       "      <td>приобретение автомобиля</td>\n",
       "    </tr>\n",
       "    <tr>\n",
       "      <th>14</th>\n",
       "      <td>0</td>\n",
       "      <td>-1844.956182</td>\n",
       "      <td>56</td>\n",
       "      <td>высшее</td>\n",
       "      <td>0</td>\n",
       "      <td>гражданский брак</td>\n",
       "      <td>1</td>\n",
       "      <td>F</td>\n",
       "      <td>компаньон</td>\n",
       "      <td>1</td>\n",
       "      <td>165127.911772</td>\n",
       "      <td>покупка жилой недвижимости</td>\n",
       "    </tr>\n",
       "    <tr>\n",
       "      <th>15</th>\n",
       "      <td>1</td>\n",
       "      <td>-972.364419</td>\n",
       "      <td>26</td>\n",
       "      <td>среднее</td>\n",
       "      <td>1</td>\n",
       "      <td>женат / замужем</td>\n",
       "      <td>0</td>\n",
       "      <td>F</td>\n",
       "      <td>сотрудник</td>\n",
       "      <td>0</td>\n",
       "      <td>116820.904450</td>\n",
       "      <td>строительство собственной недвижимости</td>\n",
       "    </tr>\n",
       "    <tr>\n",
       "      <th>16</th>\n",
       "      <td>0</td>\n",
       "      <td>-1719.934226</td>\n",
       "      <td>35</td>\n",
       "      <td>среднее</td>\n",
       "      <td>1</td>\n",
       "      <td>женат / замужем</td>\n",
       "      <td>0</td>\n",
       "      <td>F</td>\n",
       "      <td>сотрудник</td>\n",
       "      <td>0</td>\n",
       "      <td>289202.704229</td>\n",
       "      <td>недвижимость</td>\n",
       "    </tr>\n",
       "    <tr>\n",
       "      <th>17</th>\n",
       "      <td>0</td>\n",
       "      <td>-2369.999720</td>\n",
       "      <td>33</td>\n",
       "      <td>высшее</td>\n",
       "      <td>0</td>\n",
       "      <td>гражданский брак</td>\n",
       "      <td>1</td>\n",
       "      <td>M</td>\n",
       "      <td>сотрудник</td>\n",
       "      <td>0</td>\n",
       "      <td>90410.586745</td>\n",
       "      <td>строительство недвижимости</td>\n",
       "    </tr>\n",
       "    <tr>\n",
       "      <th>18</th>\n",
       "      <td>0</td>\n",
       "      <td>400281.136913</td>\n",
       "      <td>53</td>\n",
       "      <td>среднее</td>\n",
       "      <td>1</td>\n",
       "      <td>вдовец / вдова</td>\n",
       "      <td>2</td>\n",
       "      <td>F</td>\n",
       "      <td>пенсионер</td>\n",
       "      <td>0</td>\n",
       "      <td>56823.777243</td>\n",
       "      <td>на покупку подержанного автомобиля</td>\n",
       "    </tr>\n",
       "    <tr>\n",
       "      <th>19</th>\n",
       "      <td>0</td>\n",
       "      <td>-10038.818549</td>\n",
       "      <td>48</td>\n",
       "      <td>СРЕДНЕЕ</td>\n",
       "      <td>1</td>\n",
       "      <td>в разводе</td>\n",
       "      <td>3</td>\n",
       "      <td>F</td>\n",
       "      <td>сотрудник</td>\n",
       "      <td>0</td>\n",
       "      <td>242831.107982</td>\n",
       "      <td>на покупку своего автомобиля</td>\n",
       "    </tr>\n",
       "  </tbody>\n",
       "</table>\n",
       "</div>"
      ],
      "text/plain": [
       "    children  days_employed  dob_years            education  education_id  \\\n",
       "0          1   -8437.673028         42               высшее             0   \n",
       "1          1   -4024.803754         36              среднее             1   \n",
       "2          0   -5623.422610         33              Среднее             1   \n",
       "3          3   -4124.747207         32              среднее             1   \n",
       "4          0  340266.072047         53              среднее             1   \n",
       "5          0    -926.185831         27               высшее             0   \n",
       "6          0   -2879.202052         43               высшее             0   \n",
       "7          0    -152.779569         50              СРЕДНЕЕ             1   \n",
       "8          2   -6929.865299         35               ВЫСШЕЕ             0   \n",
       "9          0   -2188.756445         41              среднее             1   \n",
       "10         2   -4171.483647         36               высшее             0   \n",
       "11         0    -792.701887         40              среднее             1   \n",
       "12         0            NaN         65              среднее             1   \n",
       "13         0   -1846.641941         54  неоконченное высшее             2   \n",
       "14         0   -1844.956182         56               высшее             0   \n",
       "15         1    -972.364419         26              среднее             1   \n",
       "16         0   -1719.934226         35              среднее             1   \n",
       "17         0   -2369.999720         33               высшее             0   \n",
       "18         0  400281.136913         53              среднее             1   \n",
       "19         0  -10038.818549         48              СРЕДНЕЕ             1   \n",
       "\n",
       "       family_status  family_status_id gender income_type  debt  \\\n",
       "0    женат / замужем                 0      F   сотрудник     0   \n",
       "1    женат / замужем                 0      F   сотрудник     0   \n",
       "2    женат / замужем                 0      M   сотрудник     0   \n",
       "3    женат / замужем                 0      M   сотрудник     0   \n",
       "4   гражданский брак                 1      F   пенсионер     0   \n",
       "5   гражданский брак                 1      M   компаньон     0   \n",
       "6    женат / замужем                 0      F   компаньон     0   \n",
       "7    женат / замужем                 0      M   сотрудник     0   \n",
       "8   гражданский брак                 1      F   сотрудник     0   \n",
       "9    женат / замужем                 0      M   сотрудник     0   \n",
       "10   женат / замужем                 0      M   компаньон     0   \n",
       "11   женат / замужем                 0      F   сотрудник     0   \n",
       "12  гражданский брак                 1      M   пенсионер     0   \n",
       "13   женат / замужем                 0      F   сотрудник     0   \n",
       "14  гражданский брак                 1      F   компаньон     1   \n",
       "15   женат / замужем                 0      F   сотрудник     0   \n",
       "16   женат / замужем                 0      F   сотрудник     0   \n",
       "17  гражданский брак                 1      M   сотрудник     0   \n",
       "18    вдовец / вдова                 2      F   пенсионер     0   \n",
       "19         в разводе                 3      F   сотрудник     0   \n",
       "\n",
       "     total_income                                 purpose  \n",
       "0   253875.639453                           покупка жилья  \n",
       "1   112080.014102                 приобретение автомобиля  \n",
       "2   145885.952297                           покупка жилья  \n",
       "3   267628.550329              дополнительное образование  \n",
       "4   158616.077870                         сыграть свадьбу  \n",
       "5   255763.565419                           покупка жилья  \n",
       "6   240525.971920                       операции с жильем  \n",
       "7   135823.934197                             образование  \n",
       "8    95856.832424                   на проведение свадьбы  \n",
       "9   144425.938277                 покупка жилья для семьи  \n",
       "10  113943.491460                    покупка недвижимости  \n",
       "11   77069.234271       покупка коммерческой недвижимости  \n",
       "12            NaN                         сыграть свадьбу  \n",
       "13  130458.228857                 приобретение автомобиля  \n",
       "14  165127.911772              покупка жилой недвижимости  \n",
       "15  116820.904450  строительство собственной недвижимости  \n",
       "16  289202.704229                            недвижимость  \n",
       "17   90410.586745              строительство недвижимости  \n",
       "18   56823.777243      на покупку подержанного автомобиля  \n",
       "19  242831.107982            на покупку своего автомобиля  "
      ]
     },
     "execution_count": 10,
     "metadata": {},
     "output_type": "execute_result"
    }
   ],
   "source": [
    "data.head(20)"
   ]
  },
  {
   "cell_type": "markdown",
   "id": "1c12e233",
   "metadata": {
    "deletable": false,
    "id": "1c12e233"
   },
   "source": [
    "**Display basic information about the dataframe**"
   ]
  },
  {
   "cell_type": "code",
   "execution_count": 11,
   "id": "2b757bca",
   "metadata": {
    "deletable": false,
    "id": "2b757bca",
    "outputId": "15376089-8dad-46c9-b520-c05248d43158"
   },
   "outputs": [
    {
     "name": "stdout",
     "output_type": "stream",
     "text": [
      "<class 'pandas.core.frame.DataFrame'>\n",
      "RangeIndex: 21525 entries, 0 to 21524\n",
      "Data columns (total 12 columns):\n",
      " #   Column            Non-Null Count  Dtype  \n",
      "---  ------            --------------  -----  \n",
      " 0   children          21525 non-null  int64  \n",
      " 1   days_employed     19351 non-null  float64\n",
      " 2   dob_years         21525 non-null  int64  \n",
      " 3   education         21525 non-null  object \n",
      " 4   education_id      21525 non-null  int64  \n",
      " 5   family_status     21525 non-null  object \n",
      " 6   family_status_id  21525 non-null  int64  \n",
      " 7   gender            21525 non-null  object \n",
      " 8   income_type       21525 non-null  object \n",
      " 9   debt              21525 non-null  int64  \n",
      " 10  total_income      19351 non-null  float64\n",
      " 11  purpose           21525 non-null  object \n",
      "dtypes: float64(2), int64(5), object(5)\n",
      "memory usage: 2.0+ MB\n"
     ]
    }
   ],
   "source": [
    "data.info()"
   ]
  },
  {
   "cell_type": "markdown",
   "id": "333ec665",
   "metadata": {
    "deletable": false,
    "id": "333ec665"
   },
   "source": [
    "## Data preprocessing"
   ]
  },
  {
   "cell_type": "markdown",
   "id": "02d92d53",
   "metadata": {
    "deletable": false,
    "id": "02d92d53"
   },
   "source": [
    "### Deletion of gaps"
   ]
  },
  {
   "cell_type": "markdown",
   "id": "cd84967c",
   "metadata": {
    "deletable": false,
    "id": "cd84967c"
   },
   "source": [
    "**Output the number of missing values for each columns**"
   ]
  },
  {
   "cell_type": "code",
   "execution_count": 14,
   "id": "7f9b2309",
   "metadata": {
    "deletable": false,
    "id": "7f9b2309",
    "outputId": "81f4d817-781c-465c-ed15-91ce4446810d"
   },
   "outputs": [
    {
     "data": {
      "text/plain": [
       "children               0\n",
       "days_employed       2174\n",
       "dob_years              0\n",
       "education              0\n",
       "education_id           0\n",
       "family_status          0\n",
       "family_status_id       0\n",
       "gender                 0\n",
       "income_type            0\n",
       "debt                   0\n",
       "total_income        2174\n",
       "purpose                0\n",
       "dtype: int64"
      ]
     },
     "execution_count": 14,
     "metadata": {},
     "output_type": "execute_result"
    }
   ],
   "source": [
    "data.isna().sum()"
   ]
  },
  {
   "cell_type": "markdown",
   "id": "f2ea645d",
   "metadata": {},
   "source": [
    "Two columns have missing values: days_employed, total_income. Processed missing values first in column 'total_income' and then in column 'days_employed'"
   ]
  },
  {
   "cell_type": "markdown",
   "id": "db86e27b",
   "metadata": {
    "deletable": false,
    "id": "db86e27b"
   },
   "source": [
    "**total_income \\\n",
    "Fill in the missing values with the median from each group**"
   ]
  },
  {
   "cell_type": "code",
   "execution_count": 15,
   "id": "42006a93",
   "metadata": {
    "deletable": false,
    "id": "42006a93"
   },
   "outputs": [],
   "source": [
    "for t in data['income_type'].unique():\n",
    "    data.loc[(data['income_type'] == t) & (data['total_income'].isna()), 'total_income'] = \\\n",
    "    data.loc[(data['income_type'] == t), 'total_income'].median()"
   ]
  },
  {
   "cell_type": "markdown",
   "id": "89da5ece",
   "metadata": {
    "deletable": false,
    "id": "89da5ece"
   },
   "source": [
    "### Processing of abnormal values"
   ]
  },
  {
   "cell_type": "markdown",
   "id": "57964554",
   "metadata": {
    "deletable": false,
    "id": "57964554"
   },
   "source": [
    "**There are negative values of seniority in the data. We need to replace them with positive values.**"
   ]
  },
  {
   "cell_type": "code",
   "execution_count": 17,
   "id": "34c33587",
   "metadata": {
    "deletable": false,
    "id": "f6f055bf"
   },
   "outputs": [],
   "source": [
    "data['days_employed'] = data['days_employed'].abs()"
   ]
  },
  {
   "cell_type": "markdown",
   "id": "6107dd2f",
   "metadata": {
    "deletable": false,
    "id": "6107dd2f"
   },
   "source": [
    "**Display the median value of seniority for each type of employment**"
   ]
  },
  {
   "cell_type": "code",
   "execution_count": 18,
   "id": "85a5faf6",
   "metadata": {
    "deletable": false,
    "id": "85a5faf6",
    "outputId": "801ef80e-522b-4668-f34e-565af7432bcf"
   },
   "outputs": [
    {
     "data": {
      "text/plain": [
       "income_type\n",
       "безработный        366413.652744\n",
       "в декрете            3296.759962\n",
       "госслужащий          2689.368353\n",
       "компаньон            1547.382223\n",
       "пенсионер          365213.306266\n",
       "предприниматель       520.848083\n",
       "сотрудник            1574.202821\n",
       "студент               578.751554\n",
       "Name: days_employed, dtype: float64"
      ]
     },
     "execution_count": 18,
     "metadata": {},
     "output_type": "execute_result"
    }
   ],
   "source": [
    "data.groupby('income_type')['days_employed'].agg('median')"
   ]
  },
  {
   "cell_type": "markdown",
   "id": "38d1a030",
   "metadata": {
    "deletable": false,
    "id": "38d1a030"
   },
   "source": [
    "Columns 'безработный' and 'пенсионер' have abnormally high values. We don't need this data, so we won't delete it. "
   ]
  },
  {
   "cell_type": "markdown",
   "id": "d8a9f147",
   "metadata": {
    "deletable": false,
    "id": "d8a9f147"
   },
   "source": [
    "**Output uniqui values of column 'children'**"
   ]
  },
  {
   "cell_type": "code",
   "execution_count": 19,
   "id": "ef5056eb",
   "metadata": {
    "deletable": false,
    "id": "ef5056eb",
    "outputId": "6975b15c-7f95-4697-d16d-a0c79b657b03"
   },
   "outputs": [
    {
     "data": {
      "text/plain": [
       "array([ 1,  0,  3,  2, -1,  4, 20,  5])"
      ]
     },
     "execution_count": 19,
     "metadata": {},
     "output_type": "execute_result"
    }
   ],
   "source": [
    "data['children'].unique()"
   ]
  },
  {
   "cell_type": "markdown",
   "id": "40b9ebf2",
   "metadata": {
    "deletable": false,
    "id": "40b9ebf2"
   },
   "source": [
    "**Remove anomalous value in column 'children'**"
   ]
  },
  {
   "cell_type": "code",
   "execution_count": 20,
   "id": "3ff9801d",
   "metadata": {
    "deletable": false,
    "id": "3ff9801d"
   },
   "outputs": [],
   "source": [
    "data = data[(data['children'] != -1) & (data['children'] != 20)]"
   ]
  },
  {
   "cell_type": "markdown",
   "id": "bbc4d0ce",
   "metadata": {
    "deletable": false,
    "id": "bbc4d0ce"
   },
   "source": [
    "**Make a check**"
   ]
  },
  {
   "cell_type": "code",
   "execution_count": 21,
   "id": "ad4fa8b7",
   "metadata": {
    "deletable": false,
    "id": "ad4fa8b7",
    "outputId": "b2097101-d49d-44d9-901b-32a65c9463d1"
   },
   "outputs": [
    {
     "data": {
      "text/plain": [
       "array([1, 0, 3, 2, 4, 5])"
      ]
     },
     "execution_count": 21,
     "metadata": {},
     "output_type": "execute_result"
    }
   ],
   "source": [
    "data['children'].unique()"
   ]
  },
  {
   "cell_type": "markdown",
   "id": "75440b63",
   "metadata": {
    "deletable": false,
    "id": "75440b63"
   },
   "source": [
    "### Deletion of gaps (again)"
   ]
  },
  {
   "cell_type": "markdown",
   "id": "f4ea573f",
   "metadata": {
    "deletable": false,
    "id": "f4ea573f"
   },
   "source": [
    "**days_employed \\\n",
    "Fill in the missing values with the median from each group**"
   ]
  },
  {
   "cell_type": "code",
   "execution_count": 22,
   "id": "af6b1a7e",
   "metadata": {
    "deletable": false,
    "id": "af6b1a7e"
   },
   "outputs": [],
   "source": [
    "for t in data['income_type'].unique():\n",
    "    data.loc[(data['income_type'] == t) & (data['days_employed'].isna()), 'days_employed'] = \\\n",
    "    data.loc[(data['income_type'] == t), 'days_employed'].median()"
   ]
  },
  {
   "cell_type": "markdown",
   "id": "2753f40d",
   "metadata": {
    "deletable": false,
    "id": "2753f40d"
   },
   "source": [
    "**Make a check**"
   ]
  },
  {
   "cell_type": "code",
   "execution_count": 23,
   "id": "55f78bc2",
   "metadata": {
    "deletable": false,
    "id": "55f78bc2",
    "outputId": "8da1e4e1-358e-4e87-98c9-f261bce0a7b2"
   },
   "outputs": [
    {
     "data": {
      "text/plain": [
       "children            0\n",
       "days_employed       0\n",
       "dob_years           0\n",
       "education           0\n",
       "education_id        0\n",
       "family_status       0\n",
       "family_status_id    0\n",
       "gender              0\n",
       "income_type         0\n",
       "debt                0\n",
       "total_income        0\n",
       "purpose             0\n",
       "dtype: int64"
      ]
     },
     "execution_count": 23,
     "metadata": {},
     "output_type": "execute_result"
    }
   ],
   "source": [
    "data.isna().sum()"
   ]
  },
  {
   "cell_type": "markdown",
   "id": "ddc81e43",
   "metadata": {
    "deletable": false,
    "id": "ddc81e43"
   },
   "source": [
    "### Changing data types"
   ]
  },
  {
   "cell_type": "markdown",
   "id": "42d19d24",
   "metadata": {
    "deletable": false,
    "id": "42d19d24"
   },
   "source": [
    "**Change real type to integer type in column 'total_income'**"
   ]
  },
  {
   "cell_type": "code",
   "execution_count": 24,
   "id": "920b65ad",
   "metadata": {
    "deletable": false,
    "id": "920b65ad"
   },
   "outputs": [],
   "source": [
    "data['total_income'] = data['total_income'].astype(int)"
   ]
  },
  {
   "cell_type": "markdown",
   "id": "80c420ba",
   "metadata": {
    "deletable": false,
    "id": "80c420ba"
   },
   "source": [
    "### Duplicate Handling"
   ]
  },
  {
   "cell_type": "markdown",
   "id": "dc587695",
   "metadata": {
    "deletable": false,
    "id": "dc587695"
   },
   "source": [
    "**Output the number of rows of duplicates in the data**"
   ]
  },
  {
   "cell_type": "code",
   "execution_count": 25,
   "id": "3ee445e4",
   "metadata": {
    "deletable": false,
    "id": "3ee445e4",
    "outputId": "9684deba-1934-42d1-99e1-cda61740f822"
   },
   "outputs": [
    {
     "data": {
      "text/plain": [
       "54"
      ]
     },
     "execution_count": 25,
     "metadata": {},
     "output_type": "execute_result"
    }
   ],
   "source": [
    "data.duplicated().sum()"
   ]
  },
  {
   "cell_type": "markdown",
   "id": "d7172b1d",
   "metadata": {},
   "source": [
    "**Delete duplicates**"
   ]
  },
  {
   "cell_type": "code",
   "execution_count": 26,
   "id": "8575fe05",
   "metadata": {
    "deletable": false,
    "id": "8575fe05"
   },
   "outputs": [],
   "source": [
    "data = data.drop_duplicates()"
   ]
  },
  {
   "cell_type": "markdown",
   "id": "9771a76c",
   "metadata": {
    "deletable": false,
    "id": "9771a76c"
   },
   "source": [
    "**Remove implicit duplicates in column 'education'**"
   ]
  },
  {
   "cell_type": "code",
   "execution_count": 27,
   "id": "a9f8e2bf",
   "metadata": {
    "deletable": false,
    "id": "a9f8e2bf"
   },
   "outputs": [],
   "source": [
    "data['education'] = data['education'].str.lower()"
   ]
  },
  {
   "cell_type": "code",
   "execution_count": 29,
   "id": "eafc0a0b",
   "metadata": {},
   "outputs": [],
   "source": [
    "data = data.drop_duplicates()"
   ]
  },
  {
   "cell_type": "markdown",
   "id": "4a4cbe2e",
   "metadata": {},
   "source": [
    "**Make a check**"
   ]
  },
  {
   "cell_type": "code",
   "execution_count": 30,
   "id": "b9b6aea3",
   "metadata": {},
   "outputs": [
    {
     "data": {
      "text/plain": [
       "0"
      ]
     },
     "execution_count": 30,
     "metadata": {},
     "output_type": "execute_result"
    }
   ],
   "source": [
    "data.duplicated().sum()"
   ]
  },
  {
   "cell_type": "markdown",
   "id": "9904cf55",
   "metadata": {
    "deletable": false,
    "id": "9904cf55"
   },
   "source": [
    "### Data categorization"
   ]
  },
  {
   "cell_type": "markdown",
   "id": "72fcc8a2",
   "metadata": {
    "deletable": false,
    "id": "72fcc8a2"
   },
   "source": [
    "**Create column 'total_income_category' containig categories:**\n",
    "\n",
    "- 0–30000 — `'E'`;\n",
    "- 30001–50000 — `'D'`;\n",
    "- 50001–200000 — `'C'`;\n",
    "- 200001–1000000 — `'B'`;\n",
    "- 1000001 и выше — `'A'`."
   ]
  },
  {
   "cell_type": "code",
   "execution_count": 31,
   "id": "e1771346",
   "metadata": {
    "deletable": false,
    "id": "e1771346"
   },
   "outputs": [],
   "source": [
    "def categorize_income(income):\n",
    "    try:\n",
    "        if 0 <= income <= 30000:\n",
    "            return 'E'\n",
    "        elif 30001 <= income <= 50000:\n",
    "            return 'D'\n",
    "        elif 50001 <= income <= 200000:\n",
    "            return 'C'\n",
    "        elif 200001 <= income <= 1000000:\n",
    "            return 'B'\n",
    "        elif income >= 1000001:\n",
    "            return 'A'\n",
    "    except:\n",
    "        pass"
   ]
  },
  {
   "cell_type": "code",
   "execution_count": 32,
   "id": "d5f3586d",
   "metadata": {
    "deletable": false,
    "id": "d5f3586d"
   },
   "outputs": [],
   "source": [
    "data['total_income_category'] = data['total_income'].apply(categorize_income)"
   ]
  },
  {
   "cell_type": "markdown",
   "id": "dde49b5c",
   "metadata": {
    "deletable": false,
    "id": "dde49b5c"
   },
   "source": [
    "**Display unique values of column 'purpose'**"
   ]
  },
  {
   "cell_type": "code",
   "execution_count": 33,
   "id": "f67ce9b3",
   "metadata": {
    "deletable": false,
    "id": "f67ce9b3",
    "outputId": "673c12d9-7d7e-4ae0-9812-c622c89dd244"
   },
   "outputs": [
    {
     "data": {
      "text/plain": [
       "array(['покупка жилья', 'приобретение автомобиля',\n",
       "       'дополнительное образование', 'сыграть свадьбу',\n",
       "       'операции с жильем', 'образование', 'на проведение свадьбы',\n",
       "       'покупка жилья для семьи', 'покупка недвижимости',\n",
       "       'покупка коммерческой недвижимости', 'покупка жилой недвижимости',\n",
       "       'строительство собственной недвижимости', 'недвижимость',\n",
       "       'строительство недвижимости', 'на покупку подержанного автомобиля',\n",
       "       'на покупку своего автомобиля',\n",
       "       'операции с коммерческой недвижимостью',\n",
       "       'строительство жилой недвижимости', 'жилье',\n",
       "       'операции со своей недвижимостью', 'автомобили',\n",
       "       'заняться образованием', 'сделка с подержанным автомобилем',\n",
       "       'получение образования', 'автомобиль', 'свадьба',\n",
       "       'получение дополнительного образования', 'покупка своего жилья',\n",
       "       'операции с недвижимостью', 'получение высшего образования',\n",
       "       'свой автомобиль', 'сделка с автомобилем',\n",
       "       'профильное образование', 'высшее образование',\n",
       "       'покупка жилья для сдачи', 'на покупку автомобиля', 'ремонт жилью',\n",
       "       'заняться высшим образованием'], dtype=object)"
      ]
     },
     "execution_count": 33,
     "metadata": {},
     "output_type": "execute_result"
    }
   ],
   "source": [
    "data['purpose'].unique()"
   ]
  },
  {
   "cell_type": "markdown",
   "id": "85d0aef0",
   "metadata": {
    "deletable": false,
    "id": "85d0aef0"
   },
   "source": [
    "**Create column 'purpose_category' containig categories:**\n",
    "\n",
    "- `'операции с автомобилем'`,\n",
    "- `'операции с недвижимостью'`,\n",
    "- `'проведение свадьбы'`,\n",
    "- `'получение образования'`."
   ]
  },
  {
   "cell_type": "code",
   "execution_count": 34,
   "id": "e149fab4",
   "metadata": {
    "deletable": false,
    "id": "e149fab4"
   },
   "outputs": [],
   "source": [
    "def categorize_purpose(row):\n",
    "    try:\n",
    "        if 'автом' in row:\n",
    "            return 'операции с автомобилем'\n",
    "        elif 'жил' in row or 'недвиж' in row:\n",
    "            return 'операции с недвижимостью'\n",
    "        elif 'свад' in row:\n",
    "            return 'проведение свадьбы'\n",
    "        elif 'образов' in row:\n",
    "            return 'получение образования'\n",
    "    except:\n",
    "        return 'нет категории'"
   ]
  },
  {
   "cell_type": "code",
   "execution_count": 35,
   "id": "bf36e69b",
   "metadata": {
    "deletable": false,
    "id": "bf36e69b"
   },
   "outputs": [],
   "source": [
    "data['purpose_category'] = data['purpose'].apply(categorize_purpose)"
   ]
  },
  {
   "cell_type": "markdown",
   "id": "09b242bf",
   "metadata": {
    "deletable": false,
    "editable": false,
    "id": "09b242bf"
   },
   "source": [
    "## Исследуйте данные и ответьте на вопросы"
   ]
  },
  {
   "cell_type": "markdown",
   "id": "e3358865",
   "metadata": {},
   "source": []
  },
  {
   "cell_type": "markdown",
   "id": "18f5d975",
   "metadata": {},
   "source": [
    "<div class=\"alert alert-danger\">\n",
    "<b>Комментарий ревьюера ❌:</b> К сожалению, все ответы на вопросы сделаны не совсем верно, их нужно будет доработать. В каждом из них нужно ответить на вопрос взаимосвязи группы и возварата кредита в срок, т.е. нужно смотреть не на уровни дохода, а на количество кредитополучателей и должников в группах. Пожалуйста, исправь ответы на вопросы, чтобы их можно было корректно проверить) </div>"
   ]
  },
  {
   "cell_type": "markdown",
   "id": "236a8a70",
   "metadata": {},
   "source": [
    "<div class=\"alert alert-danger\">\n",
    "<b>Комментарий ревьюера v 2.0 ❌:</b> Александр, немного не так, давай немного подтолкну к ходу мысли:\n",
    "\n",
    "Проще и лучше всего в ответах на вопросы воспользоваться сводными таблицами (pivot_table), где в index нужно указывать по порядку рассматриваемый каждый из необходимых в вопросах параметр (children, family_status и т.д), в values указывать debt (должников) и указать три необходимые функции в aggfunc.\n",
    "\n",
    "Ты тоже в каждом из ответов проводишь отличное исследование, но это не совсем то, что нужно исходя из ТЗ.</div>"
   ]
  },
  {
   "cell_type": "markdown",
   "id": "c5d66278",
   "metadata": {
    "deletable": false,
    "editable": false,
    "id": "c5d66278"
   },
   "source": [
    "**Задание 19. Есть ли зависимость между количеством детей и возвратом кредита в срок?**"
   ]
  },
  {
   "cell_type": "code",
   "execution_count": 22,
   "id": "5d40e6c6",
   "metadata": {
    "scrolled": true
   },
   "outputs": [
    {
     "data": {
      "text/html": [
       "<div>\n",
       "<style scoped>\n",
       "    .dataframe tbody tr th:only-of-type {\n",
       "        vertical-align: middle;\n",
       "    }\n",
       "\n",
       "    .dataframe tbody tr th {\n",
       "        vertical-align: top;\n",
       "    }\n",
       "\n",
       "    .dataframe thead th {\n",
       "        text-align: right;\n",
       "    }\n",
       "</style>\n",
       "<table border=\"1\" class=\"dataframe\">\n",
       "  <thead>\n",
       "    <tr style=\"text-align: right;\">\n",
       "      <th></th>\n",
       "      <th>children</th>\n",
       "      <th>days_employed</th>\n",
       "      <th>dob_years</th>\n",
       "      <th>education</th>\n",
       "      <th>education_id</th>\n",
       "      <th>family_status</th>\n",
       "      <th>family_status_id</th>\n",
       "      <th>gender</th>\n",
       "      <th>income_type</th>\n",
       "      <th>debt</th>\n",
       "      <th>total_income</th>\n",
       "      <th>purpose</th>\n",
       "      <th>total_income_category</th>\n",
       "      <th>purpose_category</th>\n",
       "    </tr>\n",
       "  </thead>\n",
       "  <tbody>\n",
       "    <tr>\n",
       "      <th>0</th>\n",
       "      <td>1</td>\n",
       "      <td>8437.673028</td>\n",
       "      <td>42</td>\n",
       "      <td>высшее</td>\n",
       "      <td>0</td>\n",
       "      <td>женат / замужем</td>\n",
       "      <td>0</td>\n",
       "      <td>F</td>\n",
       "      <td>сотрудник</td>\n",
       "      <td>0</td>\n",
       "      <td>253875</td>\n",
       "      <td>покупка жилья</td>\n",
       "      <td>B</td>\n",
       "      <td>операции с недвижимостью</td>\n",
       "    </tr>\n",
       "    <tr>\n",
       "      <th>1</th>\n",
       "      <td>1</td>\n",
       "      <td>4024.803754</td>\n",
       "      <td>36</td>\n",
       "      <td>среднее</td>\n",
       "      <td>1</td>\n",
       "      <td>женат / замужем</td>\n",
       "      <td>0</td>\n",
       "      <td>F</td>\n",
       "      <td>сотрудник</td>\n",
       "      <td>0</td>\n",
       "      <td>112080</td>\n",
       "      <td>приобретение автомобиля</td>\n",
       "      <td>C</td>\n",
       "      <td>операции с автомобилем</td>\n",
       "    </tr>\n",
       "    <tr>\n",
       "      <th>2</th>\n",
       "      <td>0</td>\n",
       "      <td>5623.422610</td>\n",
       "      <td>33</td>\n",
       "      <td>среднее</td>\n",
       "      <td>1</td>\n",
       "      <td>женат / замужем</td>\n",
       "      <td>0</td>\n",
       "      <td>M</td>\n",
       "      <td>сотрудник</td>\n",
       "      <td>0</td>\n",
       "      <td>145885</td>\n",
       "      <td>покупка жилья</td>\n",
       "      <td>C</td>\n",
       "      <td>операции с недвижимостью</td>\n",
       "    </tr>\n",
       "    <tr>\n",
       "      <th>3</th>\n",
       "      <td>3</td>\n",
       "      <td>4124.747207</td>\n",
       "      <td>32</td>\n",
       "      <td>среднее</td>\n",
       "      <td>1</td>\n",
       "      <td>женат / замужем</td>\n",
       "      <td>0</td>\n",
       "      <td>M</td>\n",
       "      <td>сотрудник</td>\n",
       "      <td>0</td>\n",
       "      <td>267628</td>\n",
       "      <td>дополнительное образование</td>\n",
       "      <td>B</td>\n",
       "      <td>получение образования</td>\n",
       "    </tr>\n",
       "    <tr>\n",
       "      <th>4</th>\n",
       "      <td>0</td>\n",
       "      <td>340266.072047</td>\n",
       "      <td>53</td>\n",
       "      <td>среднее</td>\n",
       "      <td>1</td>\n",
       "      <td>гражданский брак</td>\n",
       "      <td>1</td>\n",
       "      <td>F</td>\n",
       "      <td>пенсионер</td>\n",
       "      <td>0</td>\n",
       "      <td>158616</td>\n",
       "      <td>сыграть свадьбу</td>\n",
       "      <td>C</td>\n",
       "      <td>проведение свадьбы</td>\n",
       "    </tr>\n",
       "    <tr>\n",
       "      <th>5</th>\n",
       "      <td>0</td>\n",
       "      <td>926.185831</td>\n",
       "      <td>27</td>\n",
       "      <td>высшее</td>\n",
       "      <td>0</td>\n",
       "      <td>гражданский брак</td>\n",
       "      <td>1</td>\n",
       "      <td>M</td>\n",
       "      <td>компаньон</td>\n",
       "      <td>0</td>\n",
       "      <td>255763</td>\n",
       "      <td>покупка жилья</td>\n",
       "      <td>B</td>\n",
       "      <td>операции с недвижимостью</td>\n",
       "    </tr>\n",
       "    <tr>\n",
       "      <th>6</th>\n",
       "      <td>0</td>\n",
       "      <td>2879.202052</td>\n",
       "      <td>43</td>\n",
       "      <td>высшее</td>\n",
       "      <td>0</td>\n",
       "      <td>женат / замужем</td>\n",
       "      <td>0</td>\n",
       "      <td>F</td>\n",
       "      <td>компаньон</td>\n",
       "      <td>0</td>\n",
       "      <td>240525</td>\n",
       "      <td>операции с жильем</td>\n",
       "      <td>B</td>\n",
       "      <td>операции с недвижимостью</td>\n",
       "    </tr>\n",
       "    <tr>\n",
       "      <th>7</th>\n",
       "      <td>0</td>\n",
       "      <td>152.779569</td>\n",
       "      <td>50</td>\n",
       "      <td>среднее</td>\n",
       "      <td>1</td>\n",
       "      <td>женат / замужем</td>\n",
       "      <td>0</td>\n",
       "      <td>M</td>\n",
       "      <td>сотрудник</td>\n",
       "      <td>0</td>\n",
       "      <td>135823</td>\n",
       "      <td>образование</td>\n",
       "      <td>C</td>\n",
       "      <td>получение образования</td>\n",
       "    </tr>\n",
       "    <tr>\n",
       "      <th>8</th>\n",
       "      <td>2</td>\n",
       "      <td>6929.865299</td>\n",
       "      <td>35</td>\n",
       "      <td>высшее</td>\n",
       "      <td>0</td>\n",
       "      <td>гражданский брак</td>\n",
       "      <td>1</td>\n",
       "      <td>F</td>\n",
       "      <td>сотрудник</td>\n",
       "      <td>0</td>\n",
       "      <td>95856</td>\n",
       "      <td>на проведение свадьбы</td>\n",
       "      <td>C</td>\n",
       "      <td>проведение свадьбы</td>\n",
       "    </tr>\n",
       "    <tr>\n",
       "      <th>9</th>\n",
       "      <td>0</td>\n",
       "      <td>2188.756445</td>\n",
       "      <td>41</td>\n",
       "      <td>среднее</td>\n",
       "      <td>1</td>\n",
       "      <td>женат / замужем</td>\n",
       "      <td>0</td>\n",
       "      <td>M</td>\n",
       "      <td>сотрудник</td>\n",
       "      <td>0</td>\n",
       "      <td>144425</td>\n",
       "      <td>покупка жилья для семьи</td>\n",
       "      <td>C</td>\n",
       "      <td>операции с недвижимостью</td>\n",
       "    </tr>\n",
       "    <tr>\n",
       "      <th>10</th>\n",
       "      <td>2</td>\n",
       "      <td>4171.483647</td>\n",
       "      <td>36</td>\n",
       "      <td>высшее</td>\n",
       "      <td>0</td>\n",
       "      <td>женат / замужем</td>\n",
       "      <td>0</td>\n",
       "      <td>M</td>\n",
       "      <td>компаньон</td>\n",
       "      <td>0</td>\n",
       "      <td>113943</td>\n",
       "      <td>покупка недвижимости</td>\n",
       "      <td>C</td>\n",
       "      <td>операции с недвижимостью</td>\n",
       "    </tr>\n",
       "    <tr>\n",
       "      <th>11</th>\n",
       "      <td>0</td>\n",
       "      <td>792.701887</td>\n",
       "      <td>40</td>\n",
       "      <td>среднее</td>\n",
       "      <td>1</td>\n",
       "      <td>женат / замужем</td>\n",
       "      <td>0</td>\n",
       "      <td>F</td>\n",
       "      <td>сотрудник</td>\n",
       "      <td>0</td>\n",
       "      <td>77069</td>\n",
       "      <td>покупка коммерческой недвижимости</td>\n",
       "      <td>C</td>\n",
       "      <td>операции с недвижимостью</td>\n",
       "    </tr>\n",
       "    <tr>\n",
       "      <th>12</th>\n",
       "      <td>0</td>\n",
       "      <td>365286.622650</td>\n",
       "      <td>65</td>\n",
       "      <td>среднее</td>\n",
       "      <td>1</td>\n",
       "      <td>гражданский брак</td>\n",
       "      <td>1</td>\n",
       "      <td>M</td>\n",
       "      <td>пенсионер</td>\n",
       "      <td>0</td>\n",
       "      <td>118514</td>\n",
       "      <td>сыграть свадьбу</td>\n",
       "      <td>C</td>\n",
       "      <td>проведение свадьбы</td>\n",
       "    </tr>\n",
       "    <tr>\n",
       "      <th>13</th>\n",
       "      <td>0</td>\n",
       "      <td>1846.641941</td>\n",
       "      <td>54</td>\n",
       "      <td>неоконченное высшее</td>\n",
       "      <td>2</td>\n",
       "      <td>женат / замужем</td>\n",
       "      <td>0</td>\n",
       "      <td>F</td>\n",
       "      <td>сотрудник</td>\n",
       "      <td>0</td>\n",
       "      <td>130458</td>\n",
       "      <td>приобретение автомобиля</td>\n",
       "      <td>C</td>\n",
       "      <td>операции с автомобилем</td>\n",
       "    </tr>\n",
       "    <tr>\n",
       "      <th>14</th>\n",
       "      <td>0</td>\n",
       "      <td>1844.956182</td>\n",
       "      <td>56</td>\n",
       "      <td>высшее</td>\n",
       "      <td>0</td>\n",
       "      <td>гражданский брак</td>\n",
       "      <td>1</td>\n",
       "      <td>F</td>\n",
       "      <td>компаньон</td>\n",
       "      <td>1</td>\n",
       "      <td>165127</td>\n",
       "      <td>покупка жилой недвижимости</td>\n",
       "      <td>C</td>\n",
       "      <td>операции с недвижимостью</td>\n",
       "    </tr>\n",
       "    <tr>\n",
       "      <th>15</th>\n",
       "      <td>1</td>\n",
       "      <td>972.364419</td>\n",
       "      <td>26</td>\n",
       "      <td>среднее</td>\n",
       "      <td>1</td>\n",
       "      <td>женат / замужем</td>\n",
       "      <td>0</td>\n",
       "      <td>F</td>\n",
       "      <td>сотрудник</td>\n",
       "      <td>0</td>\n",
       "      <td>116820</td>\n",
       "      <td>строительство собственной недвижимости</td>\n",
       "      <td>C</td>\n",
       "      <td>операции с недвижимостью</td>\n",
       "    </tr>\n",
       "    <tr>\n",
       "      <th>16</th>\n",
       "      <td>0</td>\n",
       "      <td>1719.934226</td>\n",
       "      <td>35</td>\n",
       "      <td>среднее</td>\n",
       "      <td>1</td>\n",
       "      <td>женат / замужем</td>\n",
       "      <td>0</td>\n",
       "      <td>F</td>\n",
       "      <td>сотрудник</td>\n",
       "      <td>0</td>\n",
       "      <td>289202</td>\n",
       "      <td>недвижимость</td>\n",
       "      <td>B</td>\n",
       "      <td>операции с недвижимостью</td>\n",
       "    </tr>\n",
       "    <tr>\n",
       "      <th>17</th>\n",
       "      <td>0</td>\n",
       "      <td>2369.999720</td>\n",
       "      <td>33</td>\n",
       "      <td>высшее</td>\n",
       "      <td>0</td>\n",
       "      <td>гражданский брак</td>\n",
       "      <td>1</td>\n",
       "      <td>M</td>\n",
       "      <td>сотрудник</td>\n",
       "      <td>0</td>\n",
       "      <td>90410</td>\n",
       "      <td>строительство недвижимости</td>\n",
       "      <td>C</td>\n",
       "      <td>операции с недвижимостью</td>\n",
       "    </tr>\n",
       "    <tr>\n",
       "      <th>18</th>\n",
       "      <td>0</td>\n",
       "      <td>400281.136913</td>\n",
       "      <td>53</td>\n",
       "      <td>среднее</td>\n",
       "      <td>1</td>\n",
       "      <td>вдовец / вдова</td>\n",
       "      <td>2</td>\n",
       "      <td>F</td>\n",
       "      <td>пенсионер</td>\n",
       "      <td>0</td>\n",
       "      <td>56823</td>\n",
       "      <td>на покупку подержанного автомобиля</td>\n",
       "      <td>C</td>\n",
       "      <td>операции с автомобилем</td>\n",
       "    </tr>\n",
       "    <tr>\n",
       "      <th>19</th>\n",
       "      <td>0</td>\n",
       "      <td>10038.818549</td>\n",
       "      <td>48</td>\n",
       "      <td>среднее</td>\n",
       "      <td>1</td>\n",
       "      <td>в разводе</td>\n",
       "      <td>3</td>\n",
       "      <td>F</td>\n",
       "      <td>сотрудник</td>\n",
       "      <td>0</td>\n",
       "      <td>242831</td>\n",
       "      <td>на покупку своего автомобиля</td>\n",
       "      <td>B</td>\n",
       "      <td>операции с автомобилем</td>\n",
       "    </tr>\n",
       "  </tbody>\n",
       "</table>\n",
       "</div>"
      ],
      "text/plain": [
       "    children  days_employed  dob_years            education  education_id  \\\n",
       "0          1    8437.673028         42               высшее             0   \n",
       "1          1    4024.803754         36              среднее             1   \n",
       "2          0    5623.422610         33              среднее             1   \n",
       "3          3    4124.747207         32              среднее             1   \n",
       "4          0  340266.072047         53              среднее             1   \n",
       "5          0     926.185831         27               высшее             0   \n",
       "6          0    2879.202052         43               высшее             0   \n",
       "7          0     152.779569         50              среднее             1   \n",
       "8          2    6929.865299         35               высшее             0   \n",
       "9          0    2188.756445         41              среднее             1   \n",
       "10         2    4171.483647         36               высшее             0   \n",
       "11         0     792.701887         40              среднее             1   \n",
       "12         0  365286.622650         65              среднее             1   \n",
       "13         0    1846.641941         54  неоконченное высшее             2   \n",
       "14         0    1844.956182         56               высшее             0   \n",
       "15         1     972.364419         26              среднее             1   \n",
       "16         0    1719.934226         35              среднее             1   \n",
       "17         0    2369.999720         33               высшее             0   \n",
       "18         0  400281.136913         53              среднее             1   \n",
       "19         0   10038.818549         48              среднее             1   \n",
       "\n",
       "       family_status  family_status_id gender income_type  debt  total_income  \\\n",
       "0    женат / замужем                 0      F   сотрудник     0        253875   \n",
       "1    женат / замужем                 0      F   сотрудник     0        112080   \n",
       "2    женат / замужем                 0      M   сотрудник     0        145885   \n",
       "3    женат / замужем                 0      M   сотрудник     0        267628   \n",
       "4   гражданский брак                 1      F   пенсионер     0        158616   \n",
       "5   гражданский брак                 1      M   компаньон     0        255763   \n",
       "6    женат / замужем                 0      F   компаньон     0        240525   \n",
       "7    женат / замужем                 0      M   сотрудник     0        135823   \n",
       "8   гражданский брак                 1      F   сотрудник     0         95856   \n",
       "9    женат / замужем                 0      M   сотрудник     0        144425   \n",
       "10   женат / замужем                 0      M   компаньон     0        113943   \n",
       "11   женат / замужем                 0      F   сотрудник     0         77069   \n",
       "12  гражданский брак                 1      M   пенсионер     0        118514   \n",
       "13   женат / замужем                 0      F   сотрудник     0        130458   \n",
       "14  гражданский брак                 1      F   компаньон     1        165127   \n",
       "15   женат / замужем                 0      F   сотрудник     0        116820   \n",
       "16   женат / замужем                 0      F   сотрудник     0        289202   \n",
       "17  гражданский брак                 1      M   сотрудник     0         90410   \n",
       "18    вдовец / вдова                 2      F   пенсионер     0         56823   \n",
       "19         в разводе                 3      F   сотрудник     0        242831   \n",
       "\n",
       "                                   purpose total_income_category  \\\n",
       "0                            покупка жилья                     B   \n",
       "1                  приобретение автомобиля                     C   \n",
       "2                            покупка жилья                     C   \n",
       "3               дополнительное образование                     B   \n",
       "4                          сыграть свадьбу                     C   \n",
       "5                            покупка жилья                     B   \n",
       "6                        операции с жильем                     B   \n",
       "7                              образование                     C   \n",
       "8                    на проведение свадьбы                     C   \n",
       "9                  покупка жилья для семьи                     C   \n",
       "10                    покупка недвижимости                     C   \n",
       "11       покупка коммерческой недвижимости                     C   \n",
       "12                         сыграть свадьбу                     C   \n",
       "13                 приобретение автомобиля                     C   \n",
       "14              покупка жилой недвижимости                     C   \n",
       "15  строительство собственной недвижимости                     C   \n",
       "16                            недвижимость                     B   \n",
       "17              строительство недвижимости                     C   \n",
       "18      на покупку подержанного автомобиля                     C   \n",
       "19            на покупку своего автомобиля                     B   \n",
       "\n",
       "            purpose_category  \n",
       "0   операции с недвижимостью  \n",
       "1     операции с автомобилем  \n",
       "2   операции с недвижимостью  \n",
       "3      получение образования  \n",
       "4         проведение свадьбы  \n",
       "5   операции с недвижимостью  \n",
       "6   операции с недвижимостью  \n",
       "7      получение образования  \n",
       "8         проведение свадьбы  \n",
       "9   операции с недвижимостью  \n",
       "10  операции с недвижимостью  \n",
       "11  операции с недвижимостью  \n",
       "12        проведение свадьбы  \n",
       "13    операции с автомобилем  \n",
       "14  операции с недвижимостью  \n",
       "15  операции с недвижимостью  \n",
       "16  операции с недвижимостью  \n",
       "17  операции с недвижимостью  \n",
       "18    операции с автомобилем  \n",
       "19    операции с автомобилем  "
      ]
     },
     "execution_count": 22,
     "metadata": {},
     "output_type": "execute_result"
    }
   ],
   "source": [
    "data.head(20)"
   ]
  },
  {
   "cell_type": "code",
   "execution_count": 23,
   "id": "a45af13d",
   "metadata": {
    "scrolled": false
   },
   "outputs": [
    {
     "data": {
      "text/html": [
       "<div>\n",
       "<style scoped>\n",
       "    .dataframe tbody tr th:only-of-type {\n",
       "        vertical-align: middle;\n",
       "    }\n",
       "\n",
       "    .dataframe tbody tr th {\n",
       "        vertical-align: top;\n",
       "    }\n",
       "\n",
       "    .dataframe thead th {\n",
       "        text-align: right;\n",
       "    }\n",
       "</style>\n",
       "<table border=\"1\" class=\"dataframe\">\n",
       "  <thead>\n",
       "    <tr style=\"text-align: right;\">\n",
       "      <th></th>\n",
       "      <th>debt</th>\n",
       "    </tr>\n",
       "    <tr>\n",
       "      <th>children</th>\n",
       "      <th></th>\n",
       "    </tr>\n",
       "  </thead>\n",
       "  <tbody>\n",
       "    <tr>\n",
       "      <th>0</th>\n",
       "      <td>14107</td>\n",
       "    </tr>\n",
       "    <tr>\n",
       "      <th>1</th>\n",
       "      <td>4809</td>\n",
       "    </tr>\n",
       "    <tr>\n",
       "      <th>2</th>\n",
       "      <td>2052</td>\n",
       "    </tr>\n",
       "    <tr>\n",
       "      <th>3</th>\n",
       "      <td>330</td>\n",
       "    </tr>\n",
       "    <tr>\n",
       "      <th>4</th>\n",
       "      <td>41</td>\n",
       "    </tr>\n",
       "    <tr>\n",
       "      <th>5</th>\n",
       "      <td>9</td>\n",
       "    </tr>\n",
       "  </tbody>\n",
       "</table>\n",
       "</div>"
      ],
      "text/plain": [
       "           debt\n",
       "children       \n",
       "0         14107\n",
       "1          4809\n",
       "2          2052\n",
       "3           330\n",
       "4            41\n",
       "5             9"
      ]
     },
     "execution_count": 23,
     "metadata": {},
     "output_type": "execute_result"
    }
   ],
   "source": [
    "data_pivot = data.pivot_table(index=['children'], values='debt', aggfunc='count')\n",
    "data_pivot"
   ]
  },
  {
   "cell_type": "code",
   "execution_count": 24,
   "id": "9aaded26",
   "metadata": {
    "scrolled": true
   },
   "outputs": [
    {
     "data": {
      "text/html": [
       "<div>\n",
       "<style scoped>\n",
       "    .dataframe tbody tr th:only-of-type {\n",
       "        vertical-align: middle;\n",
       "    }\n",
       "\n",
       "    .dataframe tbody tr th {\n",
       "        vertical-align: top;\n",
       "    }\n",
       "\n",
       "    .dataframe thead th {\n",
       "        text-align: right;\n",
       "    }\n",
       "</style>\n",
       "<table border=\"1\" class=\"dataframe\">\n",
       "  <thead>\n",
       "    <tr style=\"text-align: right;\">\n",
       "      <th></th>\n",
       "      <th>debt</th>\n",
       "    </tr>\n",
       "    <tr>\n",
       "      <th>children</th>\n",
       "      <th></th>\n",
       "    </tr>\n",
       "  </thead>\n",
       "  <tbody>\n",
       "    <tr>\n",
       "      <th>0</th>\n",
       "      <td>1063</td>\n",
       "    </tr>\n",
       "    <tr>\n",
       "      <th>1</th>\n",
       "      <td>444</td>\n",
       "    </tr>\n",
       "    <tr>\n",
       "      <th>2</th>\n",
       "      <td>194</td>\n",
       "    </tr>\n",
       "    <tr>\n",
       "      <th>3</th>\n",
       "      <td>27</td>\n",
       "    </tr>\n",
       "    <tr>\n",
       "      <th>4</th>\n",
       "      <td>4</td>\n",
       "    </tr>\n",
       "    <tr>\n",
       "      <th>5</th>\n",
       "      <td>0</td>\n",
       "    </tr>\n",
       "  </tbody>\n",
       "</table>\n",
       "</div>"
      ],
      "text/plain": [
       "          debt\n",
       "children      \n",
       "0         1063\n",
       "1          444\n",
       "2          194\n",
       "3           27\n",
       "4            4\n",
       "5            0"
      ]
     },
     "execution_count": 24,
     "metadata": {},
     "output_type": "execute_result"
    }
   ],
   "source": [
    "data_pivot = data.pivot_table(index=['children'], values='debt', aggfunc='sum')\n",
    "data_pivot"
   ]
  },
  {
   "cell_type": "code",
   "execution_count": 25,
   "id": "07444a79",
   "metadata": {},
   "outputs": [
    {
     "data": {
      "text/html": [
       "<div>\n",
       "<style scoped>\n",
       "    .dataframe tbody tr th:only-of-type {\n",
       "        vertical-align: middle;\n",
       "    }\n",
       "\n",
       "    .dataframe tbody tr th {\n",
       "        vertical-align: top;\n",
       "    }\n",
       "\n",
       "    .dataframe thead th {\n",
       "        text-align: right;\n",
       "    }\n",
       "</style>\n",
       "<table border=\"1\" class=\"dataframe\">\n",
       "  <thead>\n",
       "    <tr style=\"text-align: right;\">\n",
       "      <th></th>\n",
       "      <th>debt</th>\n",
       "    </tr>\n",
       "    <tr>\n",
       "      <th>children</th>\n",
       "      <th></th>\n",
       "    </tr>\n",
       "  </thead>\n",
       "  <tbody>\n",
       "    <tr>\n",
       "      <th>0</th>\n",
       "      <td>0.075353</td>\n",
       "    </tr>\n",
       "    <tr>\n",
       "      <th>1</th>\n",
       "      <td>0.092327</td>\n",
       "    </tr>\n",
       "    <tr>\n",
       "      <th>2</th>\n",
       "      <td>0.094542</td>\n",
       "    </tr>\n",
       "    <tr>\n",
       "      <th>3</th>\n",
       "      <td>0.081818</td>\n",
       "    </tr>\n",
       "    <tr>\n",
       "      <th>4</th>\n",
       "      <td>0.097561</td>\n",
       "    </tr>\n",
       "    <tr>\n",
       "      <th>5</th>\n",
       "      <td>0.000000</td>\n",
       "    </tr>\n",
       "  </tbody>\n",
       "</table>\n",
       "</div>"
      ],
      "text/plain": [
       "              debt\n",
       "children          \n",
       "0         0.075353\n",
       "1         0.092327\n",
       "2         0.094542\n",
       "3         0.081818\n",
       "4         0.097561\n",
       "5         0.000000"
      ]
     },
     "execution_count": 25,
     "metadata": {},
     "output_type": "execute_result"
    }
   ],
   "source": [
    "data_pivot = data.pivot_table(index=['children'], values='debt', aggfunc='mean')\n",
    "data_pivot"
   ]
  },
  {
   "cell_type": "markdown",
   "id": "3a6b99ec",
   "metadata": {
    "deletable": false,
    "id": "3a6b99ec"
   },
   "source": [
    "**Вывод:** \\\n",
    "Зависимость между вероятностью возврата кредита в срок и количеством детей есть. Наибольшее количество человек, взявших кредит - это те, которые не имеют детей. Также больше всего из этой группы тех, кто не возвращал кредит в срок. Однако значение, которое определяет относительное количество людей взявших кредит и невернувших в срок кредит больше всего в группе, у которых двое детей. Поэтому самая рискованная группа - это группа с двумя детьми."
   ]
  },
  {
   "cell_type": "markdown",
   "id": "76bca717",
   "metadata": {},
   "source": [
    "<div class=\"alert alert-success\">\n",
    "<b>Комментарий ревьюера v 3.0 ✔️:</b> Вот сейчас все как надо, молодец. В agg у пивот можно указать функции через запятую, тогда табличку можно будет собрать сразу всю"
   ]
  },
  {
   "cell_type": "markdown",
   "id": "97be82ca",
   "metadata": {
    "deletable": false,
    "editable": false,
    "id": "97be82ca"
   },
   "source": [
    "**Задание 20. Есть ли зависимость между семейным положением и возвратом кредита в срок?**"
   ]
  },
  {
   "cell_type": "code",
   "execution_count": 28,
   "id": "dc3f7ee8",
   "metadata": {
    "id": "dc3f7ee8"
   },
   "outputs": [
    {
     "data": {
      "text/html": [
       "<div>\n",
       "<style scoped>\n",
       "    .dataframe tbody tr th:only-of-type {\n",
       "        vertical-align: middle;\n",
       "    }\n",
       "\n",
       "    .dataframe tbody tr th {\n",
       "        vertical-align: top;\n",
       "    }\n",
       "\n",
       "    .dataframe thead th {\n",
       "        text-align: right;\n",
       "    }\n",
       "</style>\n",
       "<table border=\"1\" class=\"dataframe\">\n",
       "  <thead>\n",
       "    <tr style=\"text-align: right;\">\n",
       "      <th></th>\n",
       "      <th>debt</th>\n",
       "    </tr>\n",
       "    <tr>\n",
       "      <th>family_status</th>\n",
       "      <th></th>\n",
       "    </tr>\n",
       "  </thead>\n",
       "  <tbody>\n",
       "    <tr>\n",
       "      <th>Не женат / не замужем</th>\n",
       "      <td>2796</td>\n",
       "    </tr>\n",
       "    <tr>\n",
       "      <th>в разводе</th>\n",
       "      <td>1189</td>\n",
       "    </tr>\n",
       "    <tr>\n",
       "      <th>вдовец / вдова</th>\n",
       "      <td>951</td>\n",
       "    </tr>\n",
       "    <tr>\n",
       "      <th>гражданский брак</th>\n",
       "      <td>4146</td>\n",
       "    </tr>\n",
       "    <tr>\n",
       "      <th>женат / замужем</th>\n",
       "      <td>12266</td>\n",
       "    </tr>\n",
       "  </tbody>\n",
       "</table>\n",
       "</div>"
      ],
      "text/plain": [
       "                        debt\n",
       "family_status               \n",
       "Не женат / не замужем   2796\n",
       "в разводе               1189\n",
       "вдовец / вдова           951\n",
       "гражданский брак        4146\n",
       "женат / замужем        12266"
      ]
     },
     "execution_count": 28,
     "metadata": {},
     "output_type": "execute_result"
    }
   ],
   "source": [
    "# Ваш код будет здесь. Вы можете создавать новые ячейки.\n",
    "data_pivot = data.pivot_table(index=['family_status'], values='debt', aggfunc='count')\n",
    "data_pivot"
   ]
  },
  {
   "cell_type": "code",
   "execution_count": 29,
   "id": "7400270b",
   "metadata": {
    "scrolled": true
   },
   "outputs": [
    {
     "data": {
      "text/html": [
       "<div>\n",
       "<style scoped>\n",
       "    .dataframe tbody tr th:only-of-type {\n",
       "        vertical-align: middle;\n",
       "    }\n",
       "\n",
       "    .dataframe tbody tr th {\n",
       "        vertical-align: top;\n",
       "    }\n",
       "\n",
       "    .dataframe thead th {\n",
       "        text-align: right;\n",
       "    }\n",
       "</style>\n",
       "<table border=\"1\" class=\"dataframe\">\n",
       "  <thead>\n",
       "    <tr style=\"text-align: right;\">\n",
       "      <th></th>\n",
       "      <th>debt</th>\n",
       "    </tr>\n",
       "    <tr>\n",
       "      <th>family_status</th>\n",
       "      <th></th>\n",
       "    </tr>\n",
       "  </thead>\n",
       "  <tbody>\n",
       "    <tr>\n",
       "      <th>Не женат / не замужем</th>\n",
       "      <td>273</td>\n",
       "    </tr>\n",
       "    <tr>\n",
       "      <th>в разводе</th>\n",
       "      <td>84</td>\n",
       "    </tr>\n",
       "    <tr>\n",
       "      <th>вдовец / вдова</th>\n",
       "      <td>63</td>\n",
       "    </tr>\n",
       "    <tr>\n",
       "      <th>гражданский брак</th>\n",
       "      <td>385</td>\n",
       "    </tr>\n",
       "    <tr>\n",
       "      <th>женат / замужем</th>\n",
       "      <td>927</td>\n",
       "    </tr>\n",
       "  </tbody>\n",
       "</table>\n",
       "</div>"
      ],
      "text/plain": [
       "                       debt\n",
       "family_status              \n",
       "Не женат / не замужем   273\n",
       "в разводе                84\n",
       "вдовец / вдова           63\n",
       "гражданский брак        385\n",
       "женат / замужем         927"
      ]
     },
     "execution_count": 29,
     "metadata": {},
     "output_type": "execute_result"
    }
   ],
   "source": [
    "data_pivot = data.pivot_table(index=['family_status'], values='debt', aggfunc='sum')\n",
    "data_pivot"
   ]
  },
  {
   "cell_type": "code",
   "execution_count": 30,
   "id": "72131145",
   "metadata": {},
   "outputs": [
    {
     "data": {
      "text/html": [
       "<div>\n",
       "<style scoped>\n",
       "    .dataframe tbody tr th:only-of-type {\n",
       "        vertical-align: middle;\n",
       "    }\n",
       "\n",
       "    .dataframe tbody tr th {\n",
       "        vertical-align: top;\n",
       "    }\n",
       "\n",
       "    .dataframe thead th {\n",
       "        text-align: right;\n",
       "    }\n",
       "</style>\n",
       "<table border=\"1\" class=\"dataframe\">\n",
       "  <thead>\n",
       "    <tr style=\"text-align: right;\">\n",
       "      <th></th>\n",
       "      <th>debt</th>\n",
       "    </tr>\n",
       "    <tr>\n",
       "      <th>family_status</th>\n",
       "      <th></th>\n",
       "    </tr>\n",
       "  </thead>\n",
       "  <tbody>\n",
       "    <tr>\n",
       "      <th>Не женат / не замужем</th>\n",
       "      <td>0.097639</td>\n",
       "    </tr>\n",
       "    <tr>\n",
       "      <th>в разводе</th>\n",
       "      <td>0.070648</td>\n",
       "    </tr>\n",
       "    <tr>\n",
       "      <th>вдовец / вдова</th>\n",
       "      <td>0.066246</td>\n",
       "    </tr>\n",
       "    <tr>\n",
       "      <th>гражданский брак</th>\n",
       "      <td>0.092861</td>\n",
       "    </tr>\n",
       "    <tr>\n",
       "      <th>женат / замужем</th>\n",
       "      <td>0.075575</td>\n",
       "    </tr>\n",
       "  </tbody>\n",
       "</table>\n",
       "</div>"
      ],
      "text/plain": [
       "                           debt\n",
       "family_status                  \n",
       "Не женат / не замужем  0.097639\n",
       "в разводе              0.070648\n",
       "вдовец / вдова         0.066246\n",
       "гражданский брак       0.092861\n",
       "женат / замужем        0.075575"
      ]
     },
     "execution_count": 30,
     "metadata": {},
     "output_type": "execute_result"
    }
   ],
   "source": [
    "data_pivot = data.pivot_table(index=['family_status'], values='debt', aggfunc='mean')\n",
    "data_pivot"
   ]
  },
  {
   "cell_type": "markdown",
   "id": "1cef7837",
   "metadata": {
    "deletable": false,
    "id": "1cef7837"
   },
   "source": [
    "**Вывод:** \\\n",
    "Зависимость между семейным положением и возврат кредита в срок есть. Наибольшее количество закредитованных и тех кто не вернул кредит в срок приходится на лиц, которые находятся в браке. Однако доля невернувших кредит от общего числа больше всего у не находящихся никогда в браке людей - \"не женат/не замужем\". Поэтому самая рискованная группа \"не женат/не замужем\"."
   ]
  },
  {
   "cell_type": "markdown",
   "id": "d151b314",
   "metadata": {},
   "source": [
    "<div class=\"alert alert-success\">\n",
    "<b>Комментарий ревьюера v 3.0 ✔️:</b> Совершенно верно, хорошо определил зависимость"
   ]
  },
  {
   "cell_type": "markdown",
   "id": "1e8b2fca",
   "metadata": {
    "deletable": false,
    "editable": false,
    "id": "1e8b2fca"
   },
   "source": [
    "**Задание 21. Есть ли зависимость между уровнем дохода и возвратом кредита в срок?**"
   ]
  },
  {
   "cell_type": "code",
   "execution_count": 31,
   "id": "cd7e3720",
   "metadata": {
    "id": "cd7e3720",
    "scrolled": true
   },
   "outputs": [
    {
     "data": {
      "text/html": [
       "<div>\n",
       "<style scoped>\n",
       "    .dataframe tbody tr th:only-of-type {\n",
       "        vertical-align: middle;\n",
       "    }\n",
       "\n",
       "    .dataframe tbody tr th {\n",
       "        vertical-align: top;\n",
       "    }\n",
       "\n",
       "    .dataframe thead th {\n",
       "        text-align: right;\n",
       "    }\n",
       "</style>\n",
       "<table border=\"1\" class=\"dataframe\">\n",
       "  <thead>\n",
       "    <tr style=\"text-align: right;\">\n",
       "      <th></th>\n",
       "      <th>debt</th>\n",
       "    </tr>\n",
       "    <tr>\n",
       "      <th>total_income_category</th>\n",
       "      <th></th>\n",
       "    </tr>\n",
       "  </thead>\n",
       "  <tbody>\n",
       "    <tr>\n",
       "      <th>A</th>\n",
       "      <td>25</td>\n",
       "    </tr>\n",
       "    <tr>\n",
       "      <th>B</th>\n",
       "      <td>5014</td>\n",
       "    </tr>\n",
       "    <tr>\n",
       "      <th>C</th>\n",
       "      <td>15938</td>\n",
       "    </tr>\n",
       "    <tr>\n",
       "      <th>D</th>\n",
       "      <td>349</td>\n",
       "    </tr>\n",
       "    <tr>\n",
       "      <th>E</th>\n",
       "      <td>22</td>\n",
       "    </tr>\n",
       "  </tbody>\n",
       "</table>\n",
       "</div>"
      ],
      "text/plain": [
       "                        debt\n",
       "total_income_category       \n",
       "A                         25\n",
       "B                       5014\n",
       "C                      15938\n",
       "D                        349\n",
       "E                         22"
      ]
     },
     "execution_count": 31,
     "metadata": {},
     "output_type": "execute_result"
    }
   ],
   "source": [
    "# Ваш код будет здесь. Вы можете создавать новые ячейки.\n",
    "data_pivot = data.pivot_table(index=['total_income_category'], values='debt', aggfunc='count')\n",
    "data_pivot"
   ]
  },
  {
   "cell_type": "code",
   "execution_count": 32,
   "id": "dd3fc4f1",
   "metadata": {},
   "outputs": [
    {
     "data": {
      "text/html": [
       "<div>\n",
       "<style scoped>\n",
       "    .dataframe tbody tr th:only-of-type {\n",
       "        vertical-align: middle;\n",
       "    }\n",
       "\n",
       "    .dataframe tbody tr th {\n",
       "        vertical-align: top;\n",
       "    }\n",
       "\n",
       "    .dataframe thead th {\n",
       "        text-align: right;\n",
       "    }\n",
       "</style>\n",
       "<table border=\"1\" class=\"dataframe\">\n",
       "  <thead>\n",
       "    <tr style=\"text-align: right;\">\n",
       "      <th></th>\n",
       "      <th>debt</th>\n",
       "    </tr>\n",
       "    <tr>\n",
       "      <th>total_income_category</th>\n",
       "      <th></th>\n",
       "    </tr>\n",
       "  </thead>\n",
       "  <tbody>\n",
       "    <tr>\n",
       "      <th>A</th>\n",
       "      <td>2</td>\n",
       "    </tr>\n",
       "    <tr>\n",
       "      <th>B</th>\n",
       "      <td>354</td>\n",
       "    </tr>\n",
       "    <tr>\n",
       "      <th>C</th>\n",
       "      <td>1353</td>\n",
       "    </tr>\n",
       "    <tr>\n",
       "      <th>D</th>\n",
       "      <td>21</td>\n",
       "    </tr>\n",
       "    <tr>\n",
       "      <th>E</th>\n",
       "      <td>2</td>\n",
       "    </tr>\n",
       "  </tbody>\n",
       "</table>\n",
       "</div>"
      ],
      "text/plain": [
       "                       debt\n",
       "total_income_category      \n",
       "A                         2\n",
       "B                       354\n",
       "C                      1353\n",
       "D                        21\n",
       "E                         2"
      ]
     },
     "execution_count": 32,
     "metadata": {},
     "output_type": "execute_result"
    }
   ],
   "source": [
    "data_pivot = data.pivot_table(index=['total_income_category'], values='debt', aggfunc='sum')\n",
    "data_pivot"
   ]
  },
  {
   "cell_type": "code",
   "execution_count": 33,
   "id": "b8a5d3bb",
   "metadata": {},
   "outputs": [
    {
     "data": {
      "text/html": [
       "<div>\n",
       "<style scoped>\n",
       "    .dataframe tbody tr th:only-of-type {\n",
       "        vertical-align: middle;\n",
       "    }\n",
       "\n",
       "    .dataframe tbody tr th {\n",
       "        vertical-align: top;\n",
       "    }\n",
       "\n",
       "    .dataframe thead th {\n",
       "        text-align: right;\n",
       "    }\n",
       "</style>\n",
       "<table border=\"1\" class=\"dataframe\">\n",
       "  <thead>\n",
       "    <tr style=\"text-align: right;\">\n",
       "      <th></th>\n",
       "      <th>debt</th>\n",
       "    </tr>\n",
       "    <tr>\n",
       "      <th>total_income_category</th>\n",
       "      <th></th>\n",
       "    </tr>\n",
       "  </thead>\n",
       "  <tbody>\n",
       "    <tr>\n",
       "      <th>A</th>\n",
       "      <td>0.080000</td>\n",
       "    </tr>\n",
       "    <tr>\n",
       "      <th>B</th>\n",
       "      <td>0.070602</td>\n",
       "    </tr>\n",
       "    <tr>\n",
       "      <th>C</th>\n",
       "      <td>0.084891</td>\n",
       "    </tr>\n",
       "    <tr>\n",
       "      <th>D</th>\n",
       "      <td>0.060172</td>\n",
       "    </tr>\n",
       "    <tr>\n",
       "      <th>E</th>\n",
       "      <td>0.090909</td>\n",
       "    </tr>\n",
       "  </tbody>\n",
       "</table>\n",
       "</div>"
      ],
      "text/plain": [
       "                           debt\n",
       "total_income_category          \n",
       "A                      0.080000\n",
       "B                      0.070602\n",
       "C                      0.084891\n",
       "D                      0.060172\n",
       "E                      0.090909"
      ]
     },
     "execution_count": 33,
     "metadata": {},
     "output_type": "execute_result"
    }
   ],
   "source": [
    "data_pivot = data.pivot_table(index=['total_income_category'], values='debt', aggfunc='mean')\n",
    "data_pivot"
   ]
  },
  {
   "cell_type": "markdown",
   "id": "e8593def",
   "metadata": {
    "deletable": false,
    "id": "e8593def"
   },
   "source": [
    "**Вывод:** \\\n",
    "Между уровнем дохода и возвратом кредита в срок зависимость есть. Наибольшее количество закредитованных и тех кто не вернул кредит в срок приходится на лиц с доходом категории C. Однако доля невернувших кредит от общего числа больше всего у лиц с доходом категории E. Поэтому самая рискованная группа доходом категории E."
   ]
  },
  {
   "cell_type": "markdown",
   "id": "7d679da1",
   "metadata": {},
   "source": [
    "<div class=\"alert alert-success\">\n",
    "<b>Комментарий ревьюера v 3.0 ✔️:</b> Замечательно, также все правильно"
   ]
  },
  {
   "cell_type": "markdown",
   "id": "99ecbd1f",
   "metadata": {
    "deletable": false,
    "editable": false,
    "id": "99ecbd1f"
   },
   "source": [
    "**Задание 22. Как разные цели кредита влияют на его возврат в срок?**"
   ]
  },
  {
   "cell_type": "code",
   "execution_count": 34,
   "id": "2b687290",
   "metadata": {
    "id": "2b687290",
    "scrolled": true
   },
   "outputs": [
    {
     "data": {
      "text/html": [
       "<div>\n",
       "<style scoped>\n",
       "    .dataframe tbody tr th:only-of-type {\n",
       "        vertical-align: middle;\n",
       "    }\n",
       "\n",
       "    .dataframe tbody tr th {\n",
       "        vertical-align: top;\n",
       "    }\n",
       "\n",
       "    .dataframe thead th {\n",
       "        text-align: right;\n",
       "    }\n",
       "</style>\n",
       "<table border=\"1\" class=\"dataframe\">\n",
       "  <thead>\n",
       "    <tr style=\"text-align: right;\">\n",
       "      <th></th>\n",
       "      <th>debt</th>\n",
       "    </tr>\n",
       "    <tr>\n",
       "      <th>purpose_category</th>\n",
       "      <th></th>\n",
       "    </tr>\n",
       "  </thead>\n",
       "  <tbody>\n",
       "    <tr>\n",
       "      <th>операции с автомобилем</th>\n",
       "      <td>4281</td>\n",
       "    </tr>\n",
       "    <tr>\n",
       "      <th>операции с недвижимостью</th>\n",
       "      <td>10754</td>\n",
       "    </tr>\n",
       "    <tr>\n",
       "      <th>получение образования</th>\n",
       "      <td>3989</td>\n",
       "    </tr>\n",
       "    <tr>\n",
       "      <th>проведение свадьбы</th>\n",
       "      <td>2324</td>\n",
       "    </tr>\n",
       "  </tbody>\n",
       "</table>\n",
       "</div>"
      ],
      "text/plain": [
       "                           debt\n",
       "purpose_category               \n",
       "операции с автомобилем     4281\n",
       "операции с недвижимостью  10754\n",
       "получение образования      3989\n",
       "проведение свадьбы         2324"
      ]
     },
     "execution_count": 34,
     "metadata": {},
     "output_type": "execute_result"
    }
   ],
   "source": [
    "# Ваш код будет здесь. Вы можете создавать новые ячейки.\n",
    "data_pivot = data.pivot_table(index=['purpose_category'], values='debt', aggfunc='count')\n",
    "data_pivot"
   ]
  },
  {
   "cell_type": "code",
   "execution_count": 35,
   "id": "db929563",
   "metadata": {},
   "outputs": [
    {
     "data": {
      "text/html": [
       "<div>\n",
       "<style scoped>\n",
       "    .dataframe tbody tr th:only-of-type {\n",
       "        vertical-align: middle;\n",
       "    }\n",
       "\n",
       "    .dataframe tbody tr th {\n",
       "        vertical-align: top;\n",
       "    }\n",
       "\n",
       "    .dataframe thead th {\n",
       "        text-align: right;\n",
       "    }\n",
       "</style>\n",
       "<table border=\"1\" class=\"dataframe\">\n",
       "  <thead>\n",
       "    <tr style=\"text-align: right;\">\n",
       "      <th></th>\n",
       "      <th>debt</th>\n",
       "    </tr>\n",
       "    <tr>\n",
       "      <th>purpose_category</th>\n",
       "      <th></th>\n",
       "    </tr>\n",
       "  </thead>\n",
       "  <tbody>\n",
       "    <tr>\n",
       "      <th>операции с автомобилем</th>\n",
       "      <td>400</td>\n",
       "    </tr>\n",
       "    <tr>\n",
       "      <th>операции с недвижимостью</th>\n",
       "      <td>780</td>\n",
       "    </tr>\n",
       "    <tr>\n",
       "      <th>получение образования</th>\n",
       "      <td>369</td>\n",
       "    </tr>\n",
       "    <tr>\n",
       "      <th>проведение свадьбы</th>\n",
       "      <td>183</td>\n",
       "    </tr>\n",
       "  </tbody>\n",
       "</table>\n",
       "</div>"
      ],
      "text/plain": [
       "                          debt\n",
       "purpose_category              \n",
       "операции с автомобилем     400\n",
       "операции с недвижимостью   780\n",
       "получение образования      369\n",
       "проведение свадьбы         183"
      ]
     },
     "execution_count": 35,
     "metadata": {},
     "output_type": "execute_result"
    }
   ],
   "source": [
    "data_pivot = data.pivot_table(index=['purpose_category'], values='debt', aggfunc='sum')\n",
    "data_pivot"
   ]
  },
  {
   "cell_type": "code",
   "execution_count": 36,
   "id": "61c8f284",
   "metadata": {},
   "outputs": [
    {
     "data": {
      "text/html": [
       "<div>\n",
       "<style scoped>\n",
       "    .dataframe tbody tr th:only-of-type {\n",
       "        vertical-align: middle;\n",
       "    }\n",
       "\n",
       "    .dataframe tbody tr th {\n",
       "        vertical-align: top;\n",
       "    }\n",
       "\n",
       "    .dataframe thead th {\n",
       "        text-align: right;\n",
       "    }\n",
       "</style>\n",
       "<table border=\"1\" class=\"dataframe\">\n",
       "  <thead>\n",
       "    <tr style=\"text-align: right;\">\n",
       "      <th></th>\n",
       "      <th>debt</th>\n",
       "    </tr>\n",
       "    <tr>\n",
       "      <th>purpose_category</th>\n",
       "      <th></th>\n",
       "    </tr>\n",
       "  </thead>\n",
       "  <tbody>\n",
       "    <tr>\n",
       "      <th>операции с автомобилем</th>\n",
       "      <td>0.093436</td>\n",
       "    </tr>\n",
       "    <tr>\n",
       "      <th>операции с недвижимостью</th>\n",
       "      <td>0.072531</td>\n",
       "    </tr>\n",
       "    <tr>\n",
       "      <th>получение образования</th>\n",
       "      <td>0.092504</td>\n",
       "    </tr>\n",
       "    <tr>\n",
       "      <th>проведение свадьбы</th>\n",
       "      <td>0.078744</td>\n",
       "    </tr>\n",
       "  </tbody>\n",
       "</table>\n",
       "</div>"
      ],
      "text/plain": [
       "                              debt\n",
       "purpose_category                  \n",
       "операции с автомобилем    0.093436\n",
       "операции с недвижимостью  0.072531\n",
       "получение образования     0.092504\n",
       "проведение свадьбы        0.078744"
      ]
     },
     "execution_count": 36,
     "metadata": {},
     "output_type": "execute_result"
    }
   ],
   "source": [
    "data_pivot = data.pivot_table(index=['purpose_category'], values='debt', aggfunc='mean')\n",
    "data_pivot"
   ]
  },
  {
   "cell_type": "markdown",
   "id": "b4bb2ce6",
   "metadata": {
    "deletable": false,
    "id": "b4bb2ce6"
   },
   "source": [
    "**Вывод:** \\\n",
    "Наибольшее количество кредитов оформляется на Оперции с недвижимостью. Наибольшее количество кредитов и тех кредитов, которые не были возвращены в срок приходится на Операции с недвижимостью. Однако доля кредитов, которая не была возвращена и общее количество кредитов самая высокая в категории Операции с автомобилем. Поэтому самая рискованная группа \"Операции с автомобилем\"."
   ]
  },
  {
   "cell_type": "markdown",
   "id": "d5746796",
   "metadata": {},
   "source": [
    "<div class=\"alert alert-success\">\n",
    "<b>Комментарий ревьюера v 3.0 ✔️:</b> Отлично, подробно исследовал каждое значение в этом типе зависимости"
   ]
  },
  {
   "cell_type": "markdown",
   "id": "09c3ac4c",
   "metadata": {
    "deletable": false,
    "editable": false,
    "id": "09c3ac4c"
   },
   "source": [
    "**Задание 23. Приведите возможные причины появления пропусков в исходных данных.**"
   ]
  },
  {
   "cell_type": "markdown",
   "id": "9da2ceda",
   "metadata": {
    "deletable": false,
    "id": "9da2ceda"
   },
   "source": [
    "*Ответ:* \n",
    "1. Клиент не заполнил данные - пропустил\n",
    "2. Ошибка работы системы - серверной части обработки данных\n",
    "3. Ошибки, связанные с предобрадоткой данных, которые впоследсвии были загружены в базу данных (уже с ошибками)"
   ]
  },
  {
   "cell_type": "markdown",
   "id": "3d4c316d",
   "metadata": {},
   "source": [
    "<div class=\"alert alert-success\">\n",
    "<b>Комментарий ревьюера ✔️:</b> Хорошие предположения о причинах пропусков данных"
   ]
  },
  {
   "cell_type": "markdown",
   "id": "7b0487d6",
   "metadata": {
    "deletable": false,
    "editable": false,
    "id": "7b0487d6"
   },
   "source": [
    "**Задание 24. Объясните, почему заполнить пропуски медианным значением — лучшее решение для количественных переменных.**"
   ]
  },
  {
   "cell_type": "markdown",
   "id": "7ecf2b8e",
   "metadata": {
    "deletable": false,
    "id": "7ecf2b8e"
   },
   "source": [
    "*Ответ:* Большие данные распределены по группам неравномерно, в таком случае, если брать среднее значение результат будет некорректным"
   ]
  },
  {
   "cell_type": "markdown",
   "id": "1ece7618",
   "metadata": {},
   "source": [
    "<div class=\"alert alert-success\">\n",
    "<b>Комментарий ревьюера ✔️:</b> Верно, проблема тут в выбросах"
   ]
  },
  {
   "cell_type": "markdown",
   "id": "6db5255a",
   "metadata": {
    "deletable": false,
    "editable": false,
    "id": "6db5255a"
   },
   "source": [
    "## Общий вывод."
   ]
  },
  {
   "cell_type": "markdown",
   "id": "bad65432",
   "metadata": {
    "id": "bad65432"
   },
   "source": [
    "Датасет имеет достаточное количество данных для того, чтобы спрогнозировать какие группы будут возвращать кредит в срок, а какие нет. В некоторых выборках можно утвержать, что их показатели рисков примерно одинаковы, однако всегда однозначно можно выделить наиболее рискованную группу"
   ]
  },
  {
   "cell_type": "markdown",
   "id": "cbf819bc",
   "metadata": {},
   "source": [
    "<div class=\"alert alert-danger\">\n",
    "<b>Комментарий ревьюера ❌:</b> В целом хорошо, но общий вывод нужно будет переделать после исправления ответов на вопросы </div>"
   ]
  },
  {
   "cell_type": "markdown",
   "id": "efefa4a9",
   "metadata": {},
   "source": [
    "<div class=\"alert alert-success\">\n",
    "<b>Комментарий ревьюера ✔️:</b> Александр, ты хорошо постарался! У тебя сильные аналитические навыки и владение инструментами для проведения исследования. Но видимо ты не до конца понял вопросы в последнем разделе исследования и я попрошу тебя исправить его, чтобы проект стал еще лучше! </div>"
   ]
  }
 ],
 "metadata": {
  "ExecuteTimeLog": [
   {
    "duration": 47,
    "start_time": "2022-07-19T22:48:39.496Z"
   },
   {
    "duration": 533,
    "start_time": "2022-07-19T22:48:44.437Z"
   },
   {
    "duration": 21,
    "start_time": "2022-07-19T22:48:44.972Z"
   },
   {
    "duration": 14,
    "start_time": "2022-07-19T22:48:44.994Z"
   },
   {
    "duration": 11,
    "start_time": "2022-07-19T22:48:45.010Z"
   },
   {
    "duration": 42,
    "start_time": "2022-07-19T22:48:45.023Z"
   },
   {
    "duration": 3,
    "start_time": "2022-07-19T22:48:45.066Z"
   },
   {
    "duration": 8,
    "start_time": "2022-07-19T22:48:45.071Z"
   },
   {
    "duration": 3,
    "start_time": "2022-07-19T22:48:45.081Z"
   },
   {
    "duration": 8,
    "start_time": "2022-07-19T22:48:45.085Z"
   },
   {
    "duration": 4,
    "start_time": "2022-07-19T22:48:45.095Z"
   },
   {
    "duration": 54,
    "start_time": "2022-07-19T22:48:45.100Z"
   },
   {
    "duration": 8,
    "start_time": "2022-07-19T22:48:45.155Z"
   },
   {
    "duration": 3,
    "start_time": "2022-07-19T22:48:45.164Z"
   },
   {
    "duration": 21,
    "start_time": "2022-07-19T22:48:45.170Z"
   },
   {
    "duration": 14,
    "start_time": "2022-07-19T22:48:45.193Z"
   },
   {
    "duration": 10,
    "start_time": "2022-07-19T22:48:45.208Z"
   },
   {
    "duration": 5,
    "start_time": "2022-07-19T22:48:45.219Z"
   },
   {
    "duration": 32,
    "start_time": "2022-07-19T22:48:45.225Z"
   },
   {
    "duration": 5,
    "start_time": "2022-07-19T22:48:45.258Z"
   },
   {
    "duration": 7,
    "start_time": "2022-07-19T22:48:45.264Z"
   },
   {
    "duration": 27,
    "start_time": "2022-07-19T22:48:45.272Z"
   },
   {
    "duration": 17,
    "start_time": "2022-07-19T22:48:45.300Z"
   },
   {
    "duration": 4,
    "start_time": "2022-07-19T22:48:45.318Z"
   },
   {
    "duration": 7,
    "start_time": "2022-07-19T22:48:45.323Z"
   },
   {
    "duration": 6,
    "start_time": "2022-07-19T22:48:45.331Z"
   },
   {
    "duration": 2,
    "start_time": "2022-07-19T22:48:57.433Z"
   },
   {
    "duration": 17,
    "start_time": "2022-07-19T22:49:22.707Z"
   },
   {
    "duration": 1363,
    "start_time": "2022-07-20T07:08:57.461Z"
   },
   {
    "duration": 649,
    "start_time": "2022-07-20T07:10:00.405Z"
   },
   {
    "duration": 22,
    "start_time": "2022-07-20T07:10:01.056Z"
   },
   {
    "duration": 19,
    "start_time": "2022-07-20T07:10:01.079Z"
   },
   {
    "duration": 9,
    "start_time": "2022-07-20T07:10:01.100Z"
   },
   {
    "duration": 44,
    "start_time": "2022-07-20T07:10:01.111Z"
   },
   {
    "duration": 3,
    "start_time": "2022-07-20T07:10:01.157Z"
   },
   {
    "duration": 32,
    "start_time": "2022-07-20T07:10:01.162Z"
   },
   {
    "duration": 27,
    "start_time": "2022-07-20T07:10:01.196Z"
   },
   {
    "duration": 25,
    "start_time": "2022-07-20T07:10:01.224Z"
   },
   {
    "duration": 47,
    "start_time": "2022-07-20T07:10:01.251Z"
   },
   {
    "duration": 68,
    "start_time": "2022-07-20T07:10:01.300Z"
   },
   {
    "duration": 10,
    "start_time": "2022-07-20T07:10:01.370Z"
   },
   {
    "duration": 56,
    "start_time": "2022-07-20T07:10:01.381Z"
   },
   {
    "duration": 23,
    "start_time": "2022-07-20T07:10:01.440Z"
   },
   {
    "duration": 29,
    "start_time": "2022-07-20T07:10:01.464Z"
   },
   {
    "duration": 18,
    "start_time": "2022-07-20T07:10:01.495Z"
   },
   {
    "duration": 37,
    "start_time": "2022-07-20T07:10:01.515Z"
   },
   {
    "duration": 40,
    "start_time": "2022-07-20T07:10:01.553Z"
   },
   {
    "duration": 14,
    "start_time": "2022-07-20T07:10:01.595Z"
   },
   {
    "duration": 58,
    "start_time": "2022-07-20T07:10:01.611Z"
   },
   {
    "duration": 34,
    "start_time": "2022-07-20T07:10:01.670Z"
   },
   {
    "duration": 943,
    "start_time": "2022-07-20T07:10:01.705Z"
   },
   {
    "duration": 1,
    "start_time": "2022-07-20T07:10:02.649Z"
   },
   {
    "duration": 0,
    "start_time": "2022-07-20T07:10:02.651Z"
   },
   {
    "duration": 0,
    "start_time": "2022-07-20T07:10:02.652Z"
   },
   {
    "duration": 81,
    "start_time": "2022-07-20T07:14:14.339Z"
   },
   {
    "duration": 84,
    "start_time": "2022-07-20T07:15:48.780Z"
   },
   {
    "duration": 70,
    "start_time": "2022-07-20T07:16:17.046Z"
   },
   {
    "duration": 72,
    "start_time": "2022-07-20T07:18:25.913Z"
   },
   {
    "duration": 72,
    "start_time": "2022-07-20T07:21:11.088Z"
   },
   {
    "duration": 76,
    "start_time": "2022-07-20T07:21:17.279Z"
   },
   {
    "duration": 75,
    "start_time": "2022-07-20T07:21:32.815Z"
   },
   {
    "duration": 79,
    "start_time": "2022-07-20T07:21:53.837Z"
   },
   {
    "duration": 85,
    "start_time": "2022-07-20T07:24:33.146Z"
   },
   {
    "duration": 4,
    "start_time": "2022-07-20T07:25:44.395Z"
   },
   {
    "duration": 83,
    "start_time": "2022-07-20T07:27:18.898Z"
   },
   {
    "duration": 18,
    "start_time": "2022-07-20T07:27:25.478Z"
   },
   {
    "duration": 5,
    "start_time": "2022-07-20T07:27:58.308Z"
   },
   {
    "duration": 11,
    "start_time": "2022-07-20T07:28:34.662Z"
   },
   {
    "duration": 7,
    "start_time": "2022-07-20T07:29:03.285Z"
   },
   {
    "duration": 29,
    "start_time": "2022-07-20T07:30:53.983Z"
   },
   {
    "duration": 7,
    "start_time": "2022-07-20T07:31:54.309Z"
   },
   {
    "duration": 7,
    "start_time": "2022-07-20T07:33:51.888Z"
   },
   {
    "duration": 8,
    "start_time": "2022-07-20T07:34:05.697Z"
   },
   {
    "duration": 9,
    "start_time": "2022-07-20T07:34:57.525Z"
   },
   {
    "duration": 18,
    "start_time": "2022-07-20T07:35:39.386Z"
   },
   {
    "duration": 9,
    "start_time": "2022-07-20T07:36:25.012Z"
   },
   {
    "duration": 9,
    "start_time": "2022-07-20T07:37:27.755Z"
   },
   {
    "duration": 8,
    "start_time": "2022-07-20T07:37:34.879Z"
   },
   {
    "duration": 8,
    "start_time": "2022-07-20T07:39:35.795Z"
   },
   {
    "duration": 9,
    "start_time": "2022-07-20T07:40:08.770Z"
   },
   {
    "duration": 462,
    "start_time": "2022-07-20T07:43:34.233Z"
   },
   {
    "duration": 20,
    "start_time": "2022-07-20T07:43:34.697Z"
   },
   {
    "duration": 18,
    "start_time": "2022-07-20T07:43:34.718Z"
   },
   {
    "duration": 11,
    "start_time": "2022-07-20T07:43:34.738Z"
   },
   {
    "duration": 36,
    "start_time": "2022-07-20T07:43:34.750Z"
   },
   {
    "duration": 3,
    "start_time": "2022-07-20T07:43:34.787Z"
   },
   {
    "duration": 11,
    "start_time": "2022-07-20T07:43:34.791Z"
   },
   {
    "duration": 4,
    "start_time": "2022-07-20T07:43:34.803Z"
   },
   {
    "duration": 9,
    "start_time": "2022-07-20T07:43:34.809Z"
   },
   {
    "duration": 4,
    "start_time": "2022-07-20T07:43:34.820Z"
   },
   {
    "duration": 33,
    "start_time": "2022-07-20T07:43:34.846Z"
   },
   {
    "duration": 9,
    "start_time": "2022-07-20T07:43:34.881Z"
   },
   {
    "duration": 7,
    "start_time": "2022-07-20T07:43:34.891Z"
   },
   {
    "duration": 22,
    "start_time": "2022-07-20T07:43:34.899Z"
   },
   {
    "duration": 29,
    "start_time": "2022-07-20T07:43:34.922Z"
   },
   {
    "duration": 10,
    "start_time": "2022-07-20T07:43:34.953Z"
   },
   {
    "duration": 7,
    "start_time": "2022-07-20T07:43:34.965Z"
   },
   {
    "duration": 11,
    "start_time": "2022-07-20T07:43:34.974Z"
   },
   {
    "duration": 6,
    "start_time": "2022-07-20T07:43:34.986Z"
   },
   {
    "duration": 6,
    "start_time": "2022-07-20T07:43:34.993Z"
   },
   {
    "duration": 16,
    "start_time": "2022-07-20T07:43:35.000Z"
   },
   {
    "duration": 32,
    "start_time": "2022-07-20T07:43:35.018Z"
   },
   {
    "duration": 750,
    "start_time": "2022-07-20T07:43:35.051Z"
   },
   {
    "duration": 6,
    "start_time": "2022-07-20T07:43:35.802Z"
   },
   {
    "duration": 16,
    "start_time": "2022-07-20T07:43:35.809Z"
   },
   {
    "duration": 7,
    "start_time": "2022-07-20T07:43:35.826Z"
   },
   {
    "duration": 3,
    "start_time": "2022-07-20T07:43:35.834Z"
   },
   {
    "duration": 2,
    "start_time": "2022-07-20T07:43:35.845Z"
   },
   {
    "duration": 17,
    "start_time": "2022-07-20T07:43:35.848Z"
   },
   {
    "duration": 8,
    "start_time": "2022-07-20T08:00:09.589Z"
   },
   {
    "duration": 14,
    "start_time": "2022-07-20T08:00:18.867Z"
   },
   {
    "duration": 9,
    "start_time": "2022-07-20T08:00:52.097Z"
   },
   {
    "duration": 63,
    "start_time": "2022-07-20T13:26:00.563Z"
   },
   {
    "duration": 800,
    "start_time": "2022-07-20T13:26:06.086Z"
   },
   {
    "duration": 32,
    "start_time": "2022-07-20T13:26:06.889Z"
   },
   {
    "duration": 25,
    "start_time": "2022-07-20T13:26:06.922Z"
   },
   {
    "duration": 10,
    "start_time": "2022-07-20T13:26:06.950Z"
   },
   {
    "duration": 59,
    "start_time": "2022-07-20T13:26:06.962Z"
   },
   {
    "duration": 4,
    "start_time": "2022-07-20T13:26:07.029Z"
   },
   {
    "duration": 11,
    "start_time": "2022-07-20T13:26:07.035Z"
   },
   {
    "duration": 9,
    "start_time": "2022-07-20T13:26:07.047Z"
   },
   {
    "duration": 14,
    "start_time": "2022-07-20T13:26:07.058Z"
   },
   {
    "duration": 4,
    "start_time": "2022-07-20T13:26:07.076Z"
   },
   {
    "duration": 54,
    "start_time": "2022-07-20T13:26:07.083Z"
   },
   {
    "duration": 13,
    "start_time": "2022-07-20T13:26:07.142Z"
   },
   {
    "duration": 7,
    "start_time": "2022-07-20T13:26:07.157Z"
   },
   {
    "duration": 22,
    "start_time": "2022-07-20T13:26:07.166Z"
   },
   {
    "duration": 41,
    "start_time": "2022-07-20T13:26:07.190Z"
   },
   {
    "duration": 21,
    "start_time": "2022-07-20T13:26:07.238Z"
   },
   {
    "duration": 4,
    "start_time": "2022-07-20T13:26:07.261Z"
   },
   {
    "duration": 13,
    "start_time": "2022-07-20T13:26:07.267Z"
   },
   {
    "duration": 12,
    "start_time": "2022-07-20T13:26:07.282Z"
   },
   {
    "duration": 4,
    "start_time": "2022-07-20T13:26:07.296Z"
   },
   {
    "duration": 26,
    "start_time": "2022-07-20T13:26:07.312Z"
   },
   {
    "duration": 17,
    "start_time": "2022-07-20T13:26:07.339Z"
   },
   {
    "duration": 1088,
    "start_time": "2022-07-20T13:26:07.358Z"
   },
   {
    "duration": 8,
    "start_time": "2022-07-20T13:26:08.447Z"
   },
   {
    "duration": 8,
    "start_time": "2022-07-20T13:26:08.457Z"
   },
   {
    "duration": 8,
    "start_time": "2022-07-20T13:26:08.467Z"
   },
   {
    "duration": 7,
    "start_time": "2022-07-20T13:26:08.477Z"
   },
   {
    "duration": 3,
    "start_time": "2022-07-20T13:26:08.488Z"
   },
   {
    "duration": 5,
    "start_time": "2022-07-20T13:26:08.492Z"
   },
   {
    "duration": 9,
    "start_time": "2022-07-20T13:26:13.774Z"
   },
   {
    "duration": 9,
    "start_time": "2022-07-20T13:27:02.981Z"
   },
   {
    "duration": 12,
    "start_time": "2022-07-20T13:37:44.158Z"
   },
   {
    "duration": 132,
    "start_time": "2022-07-20T13:41:09.464Z"
   },
   {
    "duration": 13,
    "start_time": "2022-07-20T13:41:21.204Z"
   },
   {
    "duration": 10,
    "start_time": "2022-07-20T13:41:36.654Z"
   },
   {
    "duration": 6,
    "start_time": "2022-07-20T13:42:17.693Z"
   },
   {
    "duration": 10,
    "start_time": "2022-07-20T13:42:34.970Z"
   },
   {
    "duration": 9,
    "start_time": "2022-07-20T13:42:47.991Z"
   },
   {
    "duration": 14,
    "start_time": "2022-07-20T13:49:47.205Z"
   },
   {
    "duration": 9,
    "start_time": "2022-07-20T13:51:16.403Z"
   },
   {
    "duration": 12,
    "start_time": "2022-07-20T14:13:56.592Z"
   },
   {
    "duration": 10,
    "start_time": "2022-07-20T14:14:15.152Z"
   },
   {
    "duration": 523,
    "start_time": "2022-07-20T14:15:02.879Z"
   },
   {
    "duration": 23,
    "start_time": "2022-07-20T14:15:03.404Z"
   },
   {
    "duration": 22,
    "start_time": "2022-07-20T14:15:03.429Z"
   },
   {
    "duration": 12,
    "start_time": "2022-07-20T14:15:03.454Z"
   },
   {
    "duration": 58,
    "start_time": "2022-07-20T14:15:03.468Z"
   },
   {
    "duration": 5,
    "start_time": "2022-07-20T14:15:03.528Z"
   },
   {
    "duration": 17,
    "start_time": "2022-07-20T14:15:03.535Z"
   },
   {
    "duration": 8,
    "start_time": "2022-07-20T14:15:03.553Z"
   },
   {
    "duration": 21,
    "start_time": "2022-07-20T14:15:03.564Z"
   },
   {
    "duration": 10,
    "start_time": "2022-07-20T14:15:03.589Z"
   },
   {
    "duration": 48,
    "start_time": "2022-07-20T14:15:03.609Z"
   },
   {
    "duration": 11,
    "start_time": "2022-07-20T14:15:03.659Z"
   },
   {
    "duration": 8,
    "start_time": "2022-07-20T14:15:03.673Z"
   },
   {
    "duration": 41,
    "start_time": "2022-07-20T14:15:03.683Z"
   },
   {
    "duration": 27,
    "start_time": "2022-07-20T14:15:03.726Z"
   },
   {
    "duration": 19,
    "start_time": "2022-07-20T14:15:03.755Z"
   },
   {
    "duration": 18,
    "start_time": "2022-07-20T14:15:03.777Z"
   },
   {
    "duration": 50,
    "start_time": "2022-07-20T14:15:03.798Z"
   },
   {
    "duration": 10,
    "start_time": "2022-07-20T14:15:03.851Z"
   },
   {
    "duration": 28,
    "start_time": "2022-07-20T14:15:03.862Z"
   },
   {
    "duration": 20,
    "start_time": "2022-07-20T14:15:03.892Z"
   },
   {
    "duration": 36,
    "start_time": "2022-07-20T14:15:03.914Z"
   },
   {
    "duration": 120,
    "start_time": "2022-07-20T14:15:03.953Z"
   },
   {
    "duration": 20,
    "start_time": "2022-07-20T14:15:04.075Z"
   },
   {
    "duration": 25,
    "start_time": "2022-07-20T14:15:04.097Z"
   },
   {
    "duration": 40,
    "start_time": "2022-07-20T14:15:04.125Z"
   },
   {
    "duration": 12,
    "start_time": "2022-07-20T14:15:04.167Z"
   },
   {
    "duration": 21,
    "start_time": "2022-07-20T14:15:04.183Z"
   },
   {
    "duration": 11,
    "start_time": "2022-07-20T14:15:04.207Z"
   },
   {
    "duration": 21,
    "start_time": "2022-07-20T14:15:04.219Z"
   },
   {
    "duration": 13,
    "start_time": "2022-07-20T14:15:04.242Z"
   },
   {
    "duration": 23,
    "start_time": "2022-07-20T14:15:04.257Z"
   },
   {
    "duration": 12,
    "start_time": "2022-07-20T14:15:04.283Z"
   },
   {
    "duration": 9,
    "start_time": "2022-07-20T14:15:43.252Z"
   },
   {
    "duration": 893,
    "start_time": "2022-07-20T20:34:23.737Z"
   },
   {
    "duration": 21,
    "start_time": "2022-07-20T20:34:24.632Z"
   },
   {
    "duration": 30,
    "start_time": "2022-07-20T20:34:24.655Z"
   },
   {
    "duration": 29,
    "start_time": "2022-07-20T20:34:24.687Z"
   },
   {
    "duration": 37,
    "start_time": "2022-07-20T20:34:24.719Z"
   },
   {
    "duration": 13,
    "start_time": "2022-07-20T20:34:24.758Z"
   },
   {
    "duration": 19,
    "start_time": "2022-07-20T20:34:24.773Z"
   },
   {
    "duration": 8,
    "start_time": "2022-07-20T20:34:24.793Z"
   },
   {
    "duration": 11,
    "start_time": "2022-07-20T20:34:24.803Z"
   },
   {
    "duration": 6,
    "start_time": "2022-07-20T20:34:24.816Z"
   },
   {
    "duration": 35,
    "start_time": "2022-07-20T20:34:24.823Z"
   },
   {
    "duration": 16,
    "start_time": "2022-07-20T20:34:24.859Z"
   },
   {
    "duration": 3,
    "start_time": "2022-07-20T20:34:24.877Z"
   },
   {
    "duration": 31,
    "start_time": "2022-07-20T20:34:24.886Z"
   },
   {
    "duration": 20,
    "start_time": "2022-07-20T20:34:24.919Z"
   },
   {
    "duration": 41,
    "start_time": "2022-07-20T20:34:24.941Z"
   },
   {
    "duration": 12,
    "start_time": "2022-07-20T20:34:24.986Z"
   },
   {
    "duration": 13,
    "start_time": "2022-07-20T20:34:24.999Z"
   },
   {
    "duration": 9,
    "start_time": "2022-07-20T20:34:25.013Z"
   },
   {
    "duration": 8,
    "start_time": "2022-07-20T20:34:25.023Z"
   },
   {
    "duration": 16,
    "start_time": "2022-07-20T20:34:25.033Z"
   },
   {
    "duration": 25,
    "start_time": "2022-07-20T20:34:25.051Z"
   },
   {
    "duration": 24,
    "start_time": "2022-07-20T20:34:25.077Z"
   },
   {
    "duration": 6,
    "start_time": "2022-07-20T20:34:25.103Z"
   },
   {
    "duration": 7,
    "start_time": "2022-07-20T20:34:25.111Z"
   },
   {
    "duration": 10,
    "start_time": "2022-07-20T20:34:25.120Z"
   },
   {
    "duration": 10,
    "start_time": "2022-07-20T20:34:25.131Z"
   },
   {
    "duration": 7,
    "start_time": "2022-07-20T20:34:25.142Z"
   },
   {
    "duration": 33,
    "start_time": "2022-07-20T20:34:25.151Z"
   },
   {
    "duration": 8,
    "start_time": "2022-07-20T20:34:25.190Z"
   },
   {
    "duration": 6,
    "start_time": "2022-07-20T20:34:25.199Z"
   },
   {
    "duration": 16,
    "start_time": "2022-07-20T20:34:25.206Z"
   },
   {
    "duration": 12,
    "start_time": "2022-07-20T20:34:25.225Z"
   },
   {
    "duration": 28,
    "start_time": "2022-07-20T20:34:25.238Z"
   },
   {
    "duration": 10,
    "start_time": "2022-07-20T20:34:43.360Z"
   },
   {
    "duration": 17,
    "start_time": "2022-07-20T20:35:00.359Z"
   },
   {
    "duration": 8,
    "start_time": "2022-07-20T20:36:56.030Z"
   },
   {
    "duration": 10,
    "start_time": "2022-07-20T20:49:17.775Z"
   },
   {
    "duration": 8,
    "start_time": "2022-07-20T20:49:26.956Z"
   },
   {
    "duration": 8,
    "start_time": "2022-07-20T20:59:39.894Z"
   },
   {
    "duration": 301,
    "start_time": "2022-07-20T21:00:11.279Z"
   },
   {
    "duration": 11,
    "start_time": "2022-07-20T21:00:17.768Z"
   },
   {
    "duration": 4,
    "start_time": "2022-07-25T11:20:12.548Z"
   },
   {
    "duration": 3,
    "start_time": "2022-07-25T11:20:14.057Z"
   },
   {
    "duration": 3,
    "start_time": "2022-07-25T11:20:15.217Z"
   },
   {
    "duration": 3,
    "start_time": "2022-07-25T11:20:15.897Z"
   },
   {
    "duration": 3,
    "start_time": "2022-07-25T11:20:18.463Z"
   },
   {
    "duration": 49,
    "start_time": "2022-07-25T11:20:50.144Z"
   },
   {
    "duration": 784,
    "start_time": "2022-07-25T11:21:02.794Z"
   },
   {
    "duration": 25,
    "start_time": "2022-07-25T11:21:03.580Z"
   },
   {
    "duration": 20,
    "start_time": "2022-07-25T11:21:03.610Z"
   },
   {
    "duration": 25,
    "start_time": "2022-07-25T11:21:03.632Z"
   },
   {
    "duration": 41,
    "start_time": "2022-07-25T11:21:03.659Z"
   },
   {
    "duration": 4,
    "start_time": "2022-07-25T11:21:03.701Z"
   },
   {
    "duration": 31,
    "start_time": "2022-07-25T11:21:03.707Z"
   },
   {
    "duration": 19,
    "start_time": "2022-07-25T11:21:03.740Z"
   },
   {
    "duration": 12,
    "start_time": "2022-07-25T11:21:03.761Z"
   },
   {
    "duration": 6,
    "start_time": "2022-07-25T11:21:03.775Z"
   },
   {
    "duration": 37,
    "start_time": "2022-07-25T11:21:03.783Z"
   },
   {
    "duration": 23,
    "start_time": "2022-07-25T11:21:03.822Z"
   },
   {
    "duration": 11,
    "start_time": "2022-07-25T11:21:03.851Z"
   },
   {
    "duration": 39,
    "start_time": "2022-07-25T11:21:03.865Z"
   },
   {
    "duration": 23,
    "start_time": "2022-07-25T11:21:03.907Z"
   },
   {
    "duration": 21,
    "start_time": "2022-07-25T11:21:03.931Z"
   },
   {
    "duration": 10,
    "start_time": "2022-07-25T11:21:03.954Z"
   },
   {
    "duration": 21,
    "start_time": "2022-07-25T11:21:03.966Z"
   },
   {
    "duration": 14,
    "start_time": "2022-07-25T11:21:03.989Z"
   },
   {
    "duration": 4,
    "start_time": "2022-07-25T11:21:04.005Z"
   },
   {
    "duration": 19,
    "start_time": "2022-07-25T11:21:04.026Z"
   },
   {
    "duration": 34,
    "start_time": "2022-07-25T11:21:04.046Z"
   },
   {
    "duration": 28,
    "start_time": "2022-07-25T11:21:04.082Z"
   },
   {
    "duration": 2,
    "start_time": "2022-07-25T11:21:04.113Z"
   },
   {
    "duration": 11,
    "start_time": "2022-07-25T11:21:04.117Z"
   },
   {
    "duration": 23,
    "start_time": "2022-07-25T11:21:04.132Z"
   },
   {
    "duration": 17,
    "start_time": "2022-07-25T11:21:04.157Z"
   },
   {
    "duration": 14,
    "start_time": "2022-07-25T11:21:04.176Z"
   },
   {
    "duration": 42,
    "start_time": "2022-07-25T11:21:04.192Z"
   },
   {
    "duration": 30,
    "start_time": "2022-07-25T11:21:04.235Z"
   },
   {
    "duration": 13,
    "start_time": "2022-07-25T11:21:04.266Z"
   },
   {
    "duration": 14,
    "start_time": "2022-07-25T11:21:04.281Z"
   },
   {
    "duration": 17,
    "start_time": "2022-07-25T11:21:04.297Z"
   },
   {
    "duration": 20,
    "start_time": "2022-07-25T11:21:04.317Z"
   },
   {
    "duration": 42,
    "start_time": "2022-07-25T11:21:04.340Z"
   },
   {
    "duration": 7,
    "start_time": "2022-07-25T11:21:41.313Z"
   },
   {
    "duration": 7,
    "start_time": "2022-07-25T11:22:06.694Z"
   },
   {
    "duration": 7,
    "start_time": "2022-07-25T11:22:13.213Z"
   },
   {
    "duration": 6,
    "start_time": "2022-07-25T11:22:22.573Z"
   },
   {
    "duration": 6,
    "start_time": "2022-07-25T11:22:35.149Z"
   },
   {
    "duration": 6,
    "start_time": "2022-07-25T11:22:40.846Z"
   },
   {
    "duration": 8,
    "start_time": "2022-07-25T11:22:50.693Z"
   },
   {
    "duration": 5,
    "start_time": "2022-07-25T11:23:49.446Z"
   },
   {
    "duration": 5,
    "start_time": "2022-07-25T11:24:04.693Z"
   },
   {
    "duration": 5,
    "start_time": "2022-07-25T11:24:12.912Z"
   },
   {
    "duration": 6,
    "start_time": "2022-07-25T11:28:09.947Z"
   },
   {
    "duration": 6,
    "start_time": "2022-07-25T11:28:50.093Z"
   },
   {
    "duration": 7,
    "start_time": "2022-07-25T11:29:11.205Z"
   },
   {
    "duration": 7,
    "start_time": "2022-07-25T11:29:17.112Z"
   },
   {
    "duration": 7,
    "start_time": "2022-07-25T11:29:55.662Z"
   },
   {
    "duration": 7,
    "start_time": "2022-07-25T11:29:59.394Z"
   },
   {
    "duration": 7,
    "start_time": "2022-07-25T11:42:33.778Z"
   },
   {
    "duration": 7,
    "start_time": "2022-07-25T11:42:50.004Z"
   },
   {
    "duration": 8,
    "start_time": "2022-07-25T11:42:56.076Z"
   },
   {
    "duration": 7,
    "start_time": "2022-07-25T11:43:05.539Z"
   },
   {
    "duration": 8,
    "start_time": "2022-07-25T11:43:10.596Z"
   },
   {
    "duration": 8,
    "start_time": "2022-07-25T11:43:24.196Z"
   },
   {
    "duration": 7,
    "start_time": "2022-07-25T11:43:28.140Z"
   },
   {
    "duration": 7,
    "start_time": "2022-07-25T11:43:35.038Z"
   },
   {
    "duration": 9,
    "start_time": "2022-07-25T11:44:02.557Z"
   },
   {
    "duration": 42,
    "start_time": "2022-07-25T15:07:00.204Z"
   },
   {
    "duration": 490,
    "start_time": "2022-07-25T15:07:04.796Z"
   },
   {
    "duration": 20,
    "start_time": "2022-07-25T15:07:05.287Z"
   },
   {
    "duration": 20,
    "start_time": "2022-07-25T15:07:05.309Z"
   },
   {
    "duration": 8,
    "start_time": "2022-07-25T15:07:05.331Z"
   },
   {
    "duration": 29,
    "start_time": "2022-07-25T15:07:05.341Z"
   },
   {
    "duration": 2,
    "start_time": "2022-07-25T15:07:05.372Z"
   },
   {
    "duration": 11,
    "start_time": "2022-07-25T15:07:05.376Z"
   },
   {
    "duration": 3,
    "start_time": "2022-07-25T15:07:05.389Z"
   },
   {
    "duration": 9,
    "start_time": "2022-07-25T15:07:05.394Z"
   },
   {
    "duration": 27,
    "start_time": "2022-07-25T15:07:05.404Z"
   },
   {
    "duration": 28,
    "start_time": "2022-07-25T15:07:05.432Z"
   },
   {
    "duration": 8,
    "start_time": "2022-07-25T15:07:05.461Z"
   },
   {
    "duration": 10,
    "start_time": "2022-07-25T15:07:05.470Z"
   },
   {
    "duration": 16,
    "start_time": "2022-07-25T15:07:05.483Z"
   },
   {
    "duration": 14,
    "start_time": "2022-07-25T15:07:05.500Z"
   },
   {
    "duration": 10,
    "start_time": "2022-07-25T15:07:05.531Z"
   },
   {
    "duration": 5,
    "start_time": "2022-07-25T15:07:05.542Z"
   },
   {
    "duration": 9,
    "start_time": "2022-07-25T15:07:05.549Z"
   },
   {
    "duration": 6,
    "start_time": "2022-07-25T15:07:05.560Z"
   },
   {
    "duration": 8,
    "start_time": "2022-07-25T15:07:05.567Z"
   },
   {
    "duration": 17,
    "start_time": "2022-07-25T15:07:05.576Z"
   },
   {
    "duration": 15,
    "start_time": "2022-07-25T15:07:05.594Z"
   },
   {
    "duration": 22,
    "start_time": "2022-07-25T15:07:05.610Z"
   },
   {
    "duration": 4,
    "start_time": "2022-07-25T15:07:05.633Z"
   },
   {
    "duration": 5,
    "start_time": "2022-07-25T15:07:05.639Z"
   },
   {
    "duration": 5,
    "start_time": "2022-07-25T15:07:05.645Z"
   },
   {
    "duration": 5,
    "start_time": "2022-07-25T15:07:05.651Z"
   },
   {
    "duration": 5,
    "start_time": "2022-07-25T15:07:05.657Z"
   },
   {
    "duration": 9,
    "start_time": "2022-07-25T15:07:05.663Z"
   },
   {
    "duration": 7,
    "start_time": "2022-07-25T15:07:05.673Z"
   },
   {
    "duration": 6,
    "start_time": "2022-07-25T15:07:05.681Z"
   },
   {
    "duration": 45,
    "start_time": "2022-07-25T15:07:05.688Z"
   },
   {
    "duration": 6,
    "start_time": "2022-07-25T15:07:05.735Z"
   },
   {
    "duration": 7,
    "start_time": "2022-07-25T15:07:05.742Z"
   },
   {
    "duration": 6,
    "start_time": "2022-07-25T15:07:05.751Z"
   },
   {
    "duration": 5,
    "start_time": "2022-07-25T15:07:05.759Z"
   },
   {
    "duration": 8,
    "start_time": "2022-07-25T15:07:19.760Z"
   },
   {
    "duration": 60,
    "start_time": "2022-07-25T15:08:48.861Z"
   },
   {
    "duration": 427,
    "start_time": "2022-07-25T15:09:08.660Z"
   },
   {
    "duration": 22,
    "start_time": "2022-07-25T15:09:09.089Z"
   },
   {
    "duration": 13,
    "start_time": "2022-07-25T15:09:09.112Z"
   },
   {
    "duration": 8,
    "start_time": "2022-07-25T15:09:09.127Z"
   },
   {
    "duration": 29,
    "start_time": "2022-07-25T15:09:09.138Z"
   },
   {
    "duration": 3,
    "start_time": "2022-07-25T15:09:09.168Z"
   },
   {
    "duration": 8,
    "start_time": "2022-07-25T15:09:09.173Z"
   },
   {
    "duration": 4,
    "start_time": "2022-07-25T15:09:09.183Z"
   },
   {
    "duration": 7,
    "start_time": "2022-07-25T15:09:09.189Z"
   },
   {
    "duration": 34,
    "start_time": "2022-07-25T15:09:09.198Z"
   },
   {
    "duration": 31,
    "start_time": "2022-07-25T15:09:09.234Z"
   },
   {
    "duration": 9,
    "start_time": "2022-07-25T15:09:09.266Z"
   },
   {
    "duration": 3,
    "start_time": "2022-07-25T15:09:09.277Z"
   },
   {
    "duration": 17,
    "start_time": "2022-07-25T15:09:09.283Z"
   },
   {
    "duration": 38,
    "start_time": "2022-07-25T15:09:09.302Z"
   },
   {
    "duration": 9,
    "start_time": "2022-07-25T15:09:09.342Z"
   },
   {
    "duration": 11,
    "start_time": "2022-07-25T15:09:09.353Z"
   },
   {
    "duration": 14,
    "start_time": "2022-07-25T15:09:09.366Z"
   },
   {
    "duration": 5,
    "start_time": "2022-07-25T15:09:09.382Z"
   },
   {
    "duration": 3,
    "start_time": "2022-07-25T15:09:09.388Z"
   },
   {
    "duration": 8,
    "start_time": "2022-07-25T15:09:09.392Z"
   },
   {
    "duration": 32,
    "start_time": "2022-07-25T15:09:09.401Z"
   },
   {
    "duration": 60,
    "start_time": "2022-07-25T15:09:09.435Z"
   },
   {
    "duration": 0,
    "start_time": "2022-07-25T15:09:09.496Z"
   },
   {
    "duration": 0,
    "start_time": "2022-07-25T15:09:09.498Z"
   },
   {
    "duration": 0,
    "start_time": "2022-07-25T15:09:09.499Z"
   },
   {
    "duration": 0,
    "start_time": "2022-07-25T15:09:09.500Z"
   },
   {
    "duration": 0,
    "start_time": "2022-07-25T15:09:09.501Z"
   },
   {
    "duration": 0,
    "start_time": "2022-07-25T15:09:09.502Z"
   },
   {
    "duration": 0,
    "start_time": "2022-07-25T15:09:09.503Z"
   },
   {
    "duration": 0,
    "start_time": "2022-07-25T15:09:09.530Z"
   },
   {
    "duration": 0,
    "start_time": "2022-07-25T15:09:09.532Z"
   },
   {
    "duration": 0,
    "start_time": "2022-07-25T15:09:09.532Z"
   },
   {
    "duration": 0,
    "start_time": "2022-07-25T15:09:09.533Z"
   },
   {
    "duration": 0,
    "start_time": "2022-07-25T15:09:09.534Z"
   },
   {
    "duration": 0,
    "start_time": "2022-07-25T15:09:09.535Z"
   },
   {
    "duration": 8,
    "start_time": "2022-07-25T15:09:16.253Z"
   },
   {
    "duration": 9,
    "start_time": "2022-07-25T15:09:20.238Z"
   },
   {
    "duration": 75,
    "start_time": "2022-07-25T15:09:31.041Z"
   },
   {
    "duration": 8,
    "start_time": "2022-07-25T15:09:47.982Z"
   },
   {
    "duration": 9,
    "start_time": "2022-07-25T15:09:54.357Z"
   },
   {
    "duration": 6,
    "start_time": "2022-07-25T15:10:51.176Z"
   },
   {
    "duration": 17,
    "start_time": "2022-07-25T15:11:01.013Z"
   },
   {
    "duration": 11,
    "start_time": "2022-07-25T15:15:05.335Z"
   },
   {
    "duration": 6,
    "start_time": "2022-07-25T15:15:22.873Z"
   },
   {
    "duration": 5,
    "start_time": "2022-07-25T15:19:16.217Z"
   },
   {
    "duration": 4,
    "start_time": "2022-07-25T15:19:44.665Z"
   },
   {
    "duration": 5,
    "start_time": "2022-07-25T15:19:59.670Z"
   },
   {
    "duration": 4,
    "start_time": "2022-07-25T15:22:09.906Z"
   },
   {
    "duration": 3,
    "start_time": "2022-07-25T15:22:11.546Z"
   },
   {
    "duration": 3,
    "start_time": "2022-07-25T15:22:13.157Z"
   },
   {
    "duration": 4,
    "start_time": "2022-07-25T15:22:17.276Z"
   },
   {
    "duration": 4,
    "start_time": "2022-07-25T15:22:25.064Z"
   },
   {
    "duration": 4,
    "start_time": "2022-07-25T15:22:27.817Z"
   },
   {
    "duration": 5,
    "start_time": "2022-07-25T15:23:30.784Z"
   },
   {
    "duration": 5,
    "start_time": "2022-07-25T15:23:44.237Z"
   },
   {
    "duration": 6,
    "start_time": "2022-07-25T15:25:00.859Z"
   },
   {
    "duration": 6,
    "start_time": "2022-07-25T15:25:16.853Z"
   },
   {
    "duration": 54,
    "start_time": "2022-07-25T15:35:40.242Z"
   },
   {
    "duration": 54,
    "start_time": "2022-07-25T15:41:39.666Z"
   },
   {
    "duration": 50,
    "start_time": "2022-07-25T15:43:37.525Z"
   },
   {
    "duration": 9,
    "start_time": "2022-07-25T15:46:15.658Z"
   },
   {
    "duration": 11,
    "start_time": "2022-07-25T15:46:30.252Z"
   },
   {
    "duration": 6,
    "start_time": "2022-07-25T15:46:30.982Z"
   },
   {
    "duration": 58,
    "start_time": "2022-07-25T15:49:44.427Z"
   },
   {
    "duration": 47,
    "start_time": "2022-07-25T15:51:34.559Z"
   },
   {
    "duration": 54,
    "start_time": "2022-07-25T15:51:53.478Z"
   },
   {
    "duration": 47,
    "start_time": "2022-07-25T15:52:12.438Z"
   },
   {
    "duration": 48,
    "start_time": "2022-07-25T15:52:56.769Z"
   },
   {
    "duration": 48,
    "start_time": "2022-07-25T15:53:01.001Z"
   },
   {
    "duration": 51,
    "start_time": "2022-07-25T15:53:46.525Z"
   },
   {
    "duration": 46,
    "start_time": "2022-07-25T15:54:15.375Z"
   },
   {
    "duration": 46,
    "start_time": "2022-07-25T15:54:23.846Z"
   },
   {
    "duration": 48,
    "start_time": "2022-07-25T15:54:52.754Z"
   },
   {
    "duration": 48,
    "start_time": "2022-07-25T15:54:56.052Z"
   },
   {
    "duration": 51,
    "start_time": "2022-07-25T15:55:20.202Z"
   },
   {
    "duration": 46,
    "start_time": "2022-07-25T18:38:48.255Z"
   },
   {
    "duration": 713,
    "start_time": "2022-07-25T18:38:53.044Z"
   },
   {
    "duration": 20,
    "start_time": "2022-07-25T18:38:53.759Z"
   },
   {
    "duration": 15,
    "start_time": "2022-07-25T18:38:53.780Z"
   },
   {
    "duration": 8,
    "start_time": "2022-07-25T18:38:53.797Z"
   },
   {
    "duration": 34,
    "start_time": "2022-07-25T18:38:53.807Z"
   },
   {
    "duration": 23,
    "start_time": "2022-07-25T18:38:53.842Z"
   },
   {
    "duration": 13,
    "start_time": "2022-07-25T18:38:53.867Z"
   },
   {
    "duration": 5,
    "start_time": "2022-07-25T18:38:53.881Z"
   },
   {
    "duration": 12,
    "start_time": "2022-07-25T18:38:53.887Z"
   },
   {
    "duration": 4,
    "start_time": "2022-07-25T18:38:53.901Z"
   },
   {
    "duration": 36,
    "start_time": "2022-07-25T18:38:53.906Z"
   },
   {
    "duration": 27,
    "start_time": "2022-07-25T18:38:53.943Z"
   },
   {
    "duration": 21,
    "start_time": "2022-07-25T18:38:53.972Z"
   },
   {
    "duration": 24,
    "start_time": "2022-07-25T18:38:53.997Z"
   },
   {
    "duration": 16,
    "start_time": "2022-07-25T18:38:54.022Z"
   },
   {
    "duration": 11,
    "start_time": "2022-07-25T18:38:54.040Z"
   },
   {
    "duration": 11,
    "start_time": "2022-07-25T18:38:54.052Z"
   },
   {
    "duration": 11,
    "start_time": "2022-07-25T18:38:54.065Z"
   },
   {
    "duration": 10,
    "start_time": "2022-07-25T18:38:54.077Z"
   },
   {
    "duration": 4,
    "start_time": "2022-07-25T18:38:54.089Z"
   },
   {
    "duration": 14,
    "start_time": "2022-07-25T18:38:54.094Z"
   },
   {
    "duration": 15,
    "start_time": "2022-07-25T18:38:54.109Z"
   },
   {
    "duration": 75,
    "start_time": "2022-07-25T18:38:54.125Z"
   },
   {
    "duration": 7,
    "start_time": "2022-07-25T18:38:54.202Z"
   },
   {
    "duration": 7,
    "start_time": "2022-07-25T18:38:54.210Z"
   },
   {
    "duration": 7,
    "start_time": "2022-07-25T18:38:54.219Z"
   },
   {
    "duration": 9,
    "start_time": "2022-07-25T18:38:54.227Z"
   },
   {
    "duration": 30,
    "start_time": "2022-07-25T18:38:54.237Z"
   },
   {
    "duration": 8,
    "start_time": "2022-07-25T18:38:54.268Z"
   },
   {
    "duration": 10,
    "start_time": "2022-07-25T18:38:54.278Z"
   },
   {
    "duration": 8,
    "start_time": "2022-07-25T18:38:54.290Z"
   },
   {
    "duration": 8,
    "start_time": "2022-07-25T18:39:06.947Z"
   },
   {
    "duration": 5,
    "start_time": "2022-07-25T18:42:40.672Z"
   },
   {
    "duration": 8,
    "start_time": "2022-07-25T18:42:48.715Z"
   },
   {
    "duration": 9,
    "start_time": "2022-07-25T18:43:12.248Z"
   },
   {
    "duration": 8,
    "start_time": "2022-07-25T18:44:38.003Z"
   },
   {
    "duration": 6,
    "start_time": "2022-07-25T19:03:22.154Z"
   },
   {
    "duration": 6,
    "start_time": "2022-07-25T19:03:44.173Z"
   },
   {
    "duration": 4,
    "start_time": "2022-07-25T19:03:52.001Z"
   },
   {
    "duration": 4,
    "start_time": "2022-07-25T19:08:16.756Z"
   },
   {
    "duration": 4,
    "start_time": "2022-07-25T19:08:20.488Z"
   },
   {
    "duration": 703,
    "start_time": "2022-07-26T06:32:27.560Z"
   },
   {
    "duration": 25,
    "start_time": "2022-07-26T06:32:28.265Z"
   },
   {
    "duration": 21,
    "start_time": "2022-07-26T06:32:28.292Z"
   },
   {
    "duration": 15,
    "start_time": "2022-07-26T06:32:28.316Z"
   },
   {
    "duration": 54,
    "start_time": "2022-07-26T06:32:28.332Z"
   },
   {
    "duration": 4,
    "start_time": "2022-07-26T06:32:28.387Z"
   },
   {
    "duration": 31,
    "start_time": "2022-07-26T06:32:28.392Z"
   },
   {
    "duration": 28,
    "start_time": "2022-07-26T06:32:28.424Z"
   },
   {
    "duration": 23,
    "start_time": "2022-07-26T06:32:28.454Z"
   },
   {
    "duration": 4,
    "start_time": "2022-07-26T06:32:28.482Z"
   },
   {
    "duration": 38,
    "start_time": "2022-07-26T06:32:28.487Z"
   },
   {
    "duration": 9,
    "start_time": "2022-07-26T06:32:28.526Z"
   },
   {
    "duration": 22,
    "start_time": "2022-07-26T06:32:28.536Z"
   },
   {
    "duration": 31,
    "start_time": "2022-07-26T06:32:28.559Z"
   },
   {
    "duration": 16,
    "start_time": "2022-07-26T06:32:28.591Z"
   },
   {
    "duration": 13,
    "start_time": "2022-07-26T06:32:28.608Z"
   },
   {
    "duration": 16,
    "start_time": "2022-07-26T06:32:28.622Z"
   },
   {
    "duration": 26,
    "start_time": "2022-07-26T06:32:28.642Z"
   },
   {
    "duration": 35,
    "start_time": "2022-07-26T06:32:28.670Z"
   },
   {
    "duration": 9,
    "start_time": "2022-07-26T06:32:28.706Z"
   },
   {
    "duration": 45,
    "start_time": "2022-07-26T06:32:28.717Z"
   },
   {
    "duration": 36,
    "start_time": "2022-07-26T06:32:28.763Z"
   },
   {
    "duration": 12,
    "start_time": "2022-07-26T06:32:28.800Z"
   },
   {
    "duration": 117,
    "start_time": "2022-07-26T06:32:28.813Z"
   },
   {
    "duration": 14,
    "start_time": "2022-07-26T06:32:28.932Z"
   },
   {
    "duration": 21,
    "start_time": "2022-07-26T06:32:28.948Z"
   },
   {
    "duration": 10,
    "start_time": "2022-07-26T06:32:28.971Z"
   },
   {
    "duration": 11,
    "start_time": "2022-07-26T06:32:28.985Z"
   },
   {
    "duration": 11,
    "start_time": "2022-07-26T06:32:28.998Z"
   },
   {
    "duration": 11,
    "start_time": "2022-07-26T06:32:29.011Z"
   },
   {
    "duration": 7,
    "start_time": "2022-07-26T06:40:25.848Z"
   },
   {
    "duration": 70,
    "start_time": "2022-07-26T06:41:14.489Z"
   },
   {
    "duration": 74,
    "start_time": "2022-07-26T06:41:33.454Z"
   },
   {
    "duration": 64,
    "start_time": "2022-07-26T06:41:52.292Z"
   },
   {
    "duration": 83,
    "start_time": "2022-07-26T06:43:04.814Z"
   },
   {
    "duration": 4,
    "start_time": "2022-07-26T06:45:52.672Z"
   },
   {
    "duration": 64,
    "start_time": "2022-07-26T06:45:55.484Z"
   },
   {
    "duration": 78,
    "start_time": "2022-07-26T06:46:02.075Z"
   },
   {
    "duration": 75,
    "start_time": "2022-07-26T06:46:14.948Z"
   },
   {
    "duration": 4,
    "start_time": "2022-07-26T06:47:15.160Z"
   },
   {
    "duration": 54,
    "start_time": "2022-07-26T06:47:16.874Z"
   },
   {
    "duration": 79,
    "start_time": "2022-07-26T06:47:20.689Z"
   },
   {
    "duration": 78,
    "start_time": "2022-07-26T06:49:11.486Z"
   },
   {
    "duration": 468,
    "start_time": "2022-07-26T06:51:46.615Z"
   },
   {
    "duration": 7,
    "start_time": "2022-07-26T07:22:33.552Z"
   },
   {
    "duration": 7,
    "start_time": "2022-07-26T07:24:08.348Z"
   },
   {
    "duration": 67,
    "start_time": "2022-07-26T07:25:42.104Z"
   },
   {
    "duration": 492,
    "start_time": "2022-07-26T11:52:20.866Z"
   },
   {
    "duration": 20,
    "start_time": "2022-07-26T11:52:21.360Z"
   },
   {
    "duration": 13,
    "start_time": "2022-07-26T11:52:21.381Z"
   },
   {
    "duration": 13,
    "start_time": "2022-07-26T11:52:21.395Z"
   },
   {
    "duration": 36,
    "start_time": "2022-07-26T11:52:21.410Z"
   },
   {
    "duration": 3,
    "start_time": "2022-07-26T11:52:21.448Z"
   },
   {
    "duration": 27,
    "start_time": "2022-07-26T11:52:21.452Z"
   },
   {
    "duration": 4,
    "start_time": "2022-07-26T11:52:21.480Z"
   },
   {
    "duration": 13,
    "start_time": "2022-07-26T11:52:21.485Z"
   },
   {
    "duration": 15,
    "start_time": "2022-07-26T11:52:21.501Z"
   },
   {
    "duration": 40,
    "start_time": "2022-07-26T11:52:21.517Z"
   },
   {
    "duration": 8,
    "start_time": "2022-07-26T11:52:21.558Z"
   },
   {
    "duration": 17,
    "start_time": "2022-07-26T11:52:21.568Z"
   },
   {
    "duration": 30,
    "start_time": "2022-07-26T11:52:21.586Z"
   },
   {
    "duration": 15,
    "start_time": "2022-07-26T11:52:21.617Z"
   },
   {
    "duration": 9,
    "start_time": "2022-07-26T11:52:21.634Z"
   },
   {
    "duration": 9,
    "start_time": "2022-07-26T11:52:21.644Z"
   },
   {
    "duration": 15,
    "start_time": "2022-07-26T11:52:21.654Z"
   },
   {
    "duration": 12,
    "start_time": "2022-07-26T11:52:21.670Z"
   },
   {
    "duration": 5,
    "start_time": "2022-07-26T11:52:21.683Z"
   },
   {
    "duration": 20,
    "start_time": "2022-07-26T11:52:21.689Z"
   },
   {
    "duration": 34,
    "start_time": "2022-07-26T11:52:21.711Z"
   },
   {
    "duration": 19,
    "start_time": "2022-07-26T11:52:21.746Z"
   },
   {
    "duration": 72,
    "start_time": "2022-07-26T11:52:21.767Z"
   },
   {
    "duration": 6,
    "start_time": "2022-07-26T11:52:21.841Z"
   },
   {
    "duration": 80,
    "start_time": "2022-07-26T11:52:21.849Z"
   },
   {
    "duration": 9,
    "start_time": "2022-07-26T11:52:21.930Z"
   },
   {
    "duration": 9,
    "start_time": "2022-07-26T11:52:21.943Z"
   },
   {
    "duration": 11,
    "start_time": "2022-07-26T11:52:21.954Z"
   },
   {
    "duration": 67,
    "start_time": "2022-07-26T11:52:21.966Z"
   },
   {
    "duration": 8,
    "start_time": "2022-07-26T11:52:22.034Z"
   },
   {
    "duration": 20,
    "start_time": "2022-07-26T11:52:22.043Z"
   },
   {
    "duration": 20,
    "start_time": "2022-07-26T11:52:22.064Z"
   },
   {
    "duration": 58,
    "start_time": "2022-07-26T11:53:22.026Z"
   },
   {
    "duration": 7,
    "start_time": "2022-07-26T11:53:38.306Z"
   },
   {
    "duration": 6,
    "start_time": "2022-07-26T11:53:40.777Z"
   },
   {
    "duration": 7,
    "start_time": "2022-07-26T11:54:20.717Z"
   },
   {
    "duration": 7,
    "start_time": "2022-07-26T11:54:36.334Z"
   },
   {
    "duration": 7,
    "start_time": "2022-07-26T11:55:01.118Z"
   },
   {
    "duration": 97,
    "start_time": "2022-07-26T11:58:17.965Z"
   },
   {
    "duration": 481,
    "start_time": "2022-07-26T16:46:42.313Z"
   },
   {
    "duration": 28,
    "start_time": "2022-07-26T16:46:42.796Z"
   },
   {
    "duration": 28,
    "start_time": "2022-07-26T16:46:42.826Z"
   },
   {
    "duration": 13,
    "start_time": "2022-07-26T16:46:42.856Z"
   },
   {
    "duration": 42,
    "start_time": "2022-07-26T16:46:42.872Z"
   },
   {
    "duration": 4,
    "start_time": "2022-07-26T16:46:42.916Z"
   },
   {
    "duration": 35,
    "start_time": "2022-07-26T16:46:42.921Z"
   },
   {
    "duration": 4,
    "start_time": "2022-07-26T16:46:42.958Z"
   },
   {
    "duration": 8,
    "start_time": "2022-07-26T16:46:42.964Z"
   },
   {
    "duration": 5,
    "start_time": "2022-07-26T16:46:42.973Z"
   },
   {
    "duration": 30,
    "start_time": "2022-07-26T16:46:42.980Z"
   },
   {
    "duration": 8,
    "start_time": "2022-07-26T16:46:43.012Z"
   },
   {
    "duration": 30,
    "start_time": "2022-07-26T16:46:43.022Z"
   },
   {
    "duration": 18,
    "start_time": "2022-07-26T16:46:43.055Z"
   },
   {
    "duration": 16,
    "start_time": "2022-07-26T16:46:43.074Z"
   },
   {
    "duration": 10,
    "start_time": "2022-07-26T16:46:43.092Z"
   },
   {
    "duration": 6,
    "start_time": "2022-07-26T16:46:43.104Z"
   },
   {
    "duration": 13,
    "start_time": "2022-07-26T16:46:43.112Z"
   },
   {
    "duration": 27,
    "start_time": "2022-07-26T16:46:43.126Z"
   },
   {
    "duration": 6,
    "start_time": "2022-07-26T16:46:43.155Z"
   },
   {
    "duration": 10,
    "start_time": "2022-07-26T16:46:43.163Z"
   },
   {
    "duration": 18,
    "start_time": "2022-07-26T16:46:43.175Z"
   },
   {
    "duration": 9,
    "start_time": "2022-07-26T16:46:43.194Z"
   },
   {
    "duration": 65,
    "start_time": "2022-07-26T16:46:43.204Z"
   },
   {
    "duration": 7,
    "start_time": "2022-07-26T16:46:43.271Z"
   },
   {
    "duration": 77,
    "start_time": "2022-07-26T16:46:43.279Z"
   },
   {
    "duration": 7,
    "start_time": "2022-07-26T16:46:43.358Z"
   },
   {
    "duration": 13,
    "start_time": "2022-07-26T16:46:43.366Z"
   },
   {
    "duration": 6,
    "start_time": "2022-07-26T16:46:43.380Z"
   },
   {
    "duration": 14,
    "start_time": "2022-07-26T16:46:43.387Z"
   },
   {
    "duration": 118,
    "start_time": "2022-07-26T16:46:43.403Z"
   },
   {
    "duration": 9,
    "start_time": "2022-07-26T16:46:43.522Z"
   },
   {
    "duration": 25,
    "start_time": "2022-07-26T16:46:43.532Z"
   },
   {
    "duration": 26,
    "start_time": "2022-07-26T16:46:43.559Z"
   },
   {
    "duration": 466,
    "start_time": "2022-07-26T16:48:14.636Z"
   },
   {
    "duration": 20,
    "start_time": "2022-07-26T16:48:15.105Z"
   },
   {
    "duration": 13,
    "start_time": "2022-07-26T16:48:15.126Z"
   },
   {
    "duration": 13,
    "start_time": "2022-07-26T16:48:15.140Z"
   },
   {
    "duration": 29,
    "start_time": "2022-07-26T16:48:15.154Z"
   },
   {
    "duration": 3,
    "start_time": "2022-07-26T16:48:15.184Z"
   },
   {
    "duration": 12,
    "start_time": "2022-07-26T16:48:15.188Z"
   },
   {
    "duration": 5,
    "start_time": "2022-07-26T16:48:15.201Z"
   },
   {
    "duration": 10,
    "start_time": "2022-07-26T16:48:15.207Z"
   },
   {
    "duration": 4,
    "start_time": "2022-07-26T16:48:15.219Z"
   },
   {
    "duration": 56,
    "start_time": "2022-07-26T16:48:15.225Z"
   },
   {
    "duration": 8,
    "start_time": "2022-07-26T16:48:15.283Z"
   },
   {
    "duration": 4,
    "start_time": "2022-07-26T16:48:15.292Z"
   },
   {
    "duration": 21,
    "start_time": "2022-07-26T16:48:15.298Z"
   },
   {
    "duration": 35,
    "start_time": "2022-07-26T16:48:15.321Z"
   },
   {
    "duration": 9,
    "start_time": "2022-07-26T16:48:15.358Z"
   },
   {
    "duration": 5,
    "start_time": "2022-07-26T16:48:15.369Z"
   },
   {
    "duration": 12,
    "start_time": "2022-07-26T16:48:15.375Z"
   },
   {
    "duration": 5,
    "start_time": "2022-07-26T16:48:15.389Z"
   },
   {
    "duration": 3,
    "start_time": "2022-07-26T16:48:15.395Z"
   },
   {
    "duration": 9,
    "start_time": "2022-07-26T16:48:15.399Z"
   },
   {
    "duration": 45,
    "start_time": "2022-07-26T16:48:15.410Z"
   },
   {
    "duration": 4,
    "start_time": "2022-07-26T16:48:15.456Z"
   },
   {
    "duration": 51,
    "start_time": "2022-07-26T16:48:15.462Z"
   },
   {
    "duration": 7,
    "start_time": "2022-07-26T16:48:15.514Z"
   },
   {
    "duration": 94,
    "start_time": "2022-07-26T16:48:15.522Z"
   },
   {
    "duration": 6,
    "start_time": "2022-07-26T16:48:15.618Z"
   },
   {
    "duration": 6,
    "start_time": "2022-07-26T16:48:15.626Z"
   },
   {
    "duration": 24,
    "start_time": "2022-07-26T16:48:15.633Z"
   },
   {
    "duration": 7,
    "start_time": "2022-07-26T16:48:15.658Z"
   },
   {
    "duration": 119,
    "start_time": "2022-07-26T16:48:15.666Z"
   },
   {
    "duration": 8,
    "start_time": "2022-07-26T16:48:15.786Z"
   },
   {
    "duration": 8,
    "start_time": "2022-07-26T16:48:15.795Z"
   },
   {
    "duration": 7,
    "start_time": "2022-07-26T16:48:15.804Z"
   },
   {
    "duration": 621,
    "start_time": "2022-07-27T09:35:54.987Z"
   },
   {
    "duration": 25,
    "start_time": "2022-07-27T09:35:55.611Z"
   },
   {
    "duration": 16,
    "start_time": "2022-07-27T09:35:55.638Z"
   },
   {
    "duration": 12,
    "start_time": "2022-07-27T09:35:55.656Z"
   },
   {
    "duration": 63,
    "start_time": "2022-07-27T09:35:55.671Z"
   },
   {
    "duration": 4,
    "start_time": "2022-07-27T09:35:55.736Z"
   },
   {
    "duration": 15,
    "start_time": "2022-07-27T09:35:55.741Z"
   },
   {
    "duration": 7,
    "start_time": "2022-07-27T09:35:55.757Z"
   },
   {
    "duration": 10,
    "start_time": "2022-07-27T09:35:55.766Z"
   },
   {
    "duration": 32,
    "start_time": "2022-07-27T09:35:55.778Z"
   },
   {
    "duration": 38,
    "start_time": "2022-07-27T09:35:55.812Z"
   },
   {
    "duration": 13,
    "start_time": "2022-07-27T09:35:55.851Z"
   },
   {
    "duration": 17,
    "start_time": "2022-07-27T09:35:55.865Z"
   },
   {
    "duration": 37,
    "start_time": "2022-07-27T09:35:55.885Z"
   },
   {
    "duration": 18,
    "start_time": "2022-07-27T09:35:55.924Z"
   },
   {
    "duration": 14,
    "start_time": "2022-07-27T09:35:55.943Z"
   },
   {
    "duration": 5,
    "start_time": "2022-07-27T09:35:55.959Z"
   },
   {
    "duration": 14,
    "start_time": "2022-07-27T09:35:55.965Z"
   },
   {
    "duration": 30,
    "start_time": "2022-07-27T09:35:55.981Z"
   },
   {
    "duration": 9,
    "start_time": "2022-07-27T09:35:56.013Z"
   },
   {
    "duration": 33,
    "start_time": "2022-07-27T09:35:56.024Z"
   },
   {
    "duration": 29,
    "start_time": "2022-07-27T09:35:56.059Z"
   },
   {
    "duration": 23,
    "start_time": "2022-07-27T09:35:56.089Z"
   },
   {
    "duration": 96,
    "start_time": "2022-07-27T09:35:56.114Z"
   },
   {
    "duration": 9,
    "start_time": "2022-07-27T09:35:56.212Z"
   },
   {
    "duration": 94,
    "start_time": "2022-07-27T09:35:56.223Z"
   },
   {
    "duration": 8,
    "start_time": "2022-07-27T09:35:56.319Z"
   },
   {
    "duration": 12,
    "start_time": "2022-07-27T09:35:56.329Z"
   },
   {
    "duration": 12,
    "start_time": "2022-07-27T09:35:56.342Z"
   },
   {
    "duration": 9,
    "start_time": "2022-07-27T09:35:56.355Z"
   },
   {
    "duration": 167,
    "start_time": "2022-07-27T09:35:56.366Z"
   },
   {
    "duration": 10,
    "start_time": "2022-07-27T09:35:56.536Z"
   },
   {
    "duration": 12,
    "start_time": "2022-07-27T09:35:56.548Z"
   },
   {
    "duration": 8,
    "start_time": "2022-07-27T09:35:56.562Z"
   },
   {
    "duration": 74,
    "start_time": "2022-07-27T09:38:10.561Z"
   },
   {
    "duration": 50,
    "start_time": "2022-07-28T15:00:20.900Z"
   },
   {
    "duration": 488,
    "start_time": "2022-07-28T15:00:25.743Z"
   },
   {
    "duration": 23,
    "start_time": "2022-07-28T15:00:26.233Z"
   },
   {
    "duration": 14,
    "start_time": "2022-07-28T15:00:26.258Z"
   },
   {
    "duration": 10,
    "start_time": "2022-07-28T15:00:26.273Z"
   },
   {
    "duration": 40,
    "start_time": "2022-07-28T15:00:26.285Z"
   },
   {
    "duration": 4,
    "start_time": "2022-07-28T15:00:26.327Z"
   },
   {
    "duration": 11,
    "start_time": "2022-07-28T15:00:26.332Z"
   },
   {
    "duration": 4,
    "start_time": "2022-07-28T15:00:26.345Z"
   },
   {
    "duration": 8,
    "start_time": "2022-07-28T15:00:26.351Z"
   },
   {
    "duration": 5,
    "start_time": "2022-07-28T15:00:26.360Z"
   },
   {
    "duration": 61,
    "start_time": "2022-07-28T15:00:26.367Z"
   },
   {
    "duration": 9,
    "start_time": "2022-07-28T15:00:26.430Z"
   },
   {
    "duration": 3,
    "start_time": "2022-07-28T15:00:26.441Z"
   },
   {
    "duration": 20,
    "start_time": "2022-07-28T15:00:26.447Z"
   },
   {
    "duration": 37,
    "start_time": "2022-07-28T15:00:26.469Z"
   },
   {
    "duration": 10,
    "start_time": "2022-07-28T15:00:26.508Z"
   },
   {
    "duration": 4,
    "start_time": "2022-07-28T15:00:26.519Z"
   },
   {
    "duration": 11,
    "start_time": "2022-07-28T15:00:26.525Z"
   },
   {
    "duration": 6,
    "start_time": "2022-07-28T15:00:26.537Z"
   },
   {
    "duration": 3,
    "start_time": "2022-07-28T15:00:26.545Z"
   },
   {
    "duration": 14,
    "start_time": "2022-07-28T15:00:26.550Z"
   },
   {
    "duration": 38,
    "start_time": "2022-07-28T15:00:26.566Z"
   },
   {
    "duration": 5,
    "start_time": "2022-07-28T15:00:26.606Z"
   },
   {
    "duration": 57,
    "start_time": "2022-07-28T15:00:26.612Z"
   },
   {
    "duration": 30,
    "start_time": "2022-07-28T15:00:26.671Z"
   },
   {
    "duration": 82,
    "start_time": "2022-07-28T15:00:26.703Z"
   },
   {
    "duration": 11,
    "start_time": "2022-07-28T15:00:26.800Z"
   },
   {
    "duration": 10,
    "start_time": "2022-07-28T15:00:26.814Z"
   },
   {
    "duration": 28,
    "start_time": "2022-07-28T15:00:26.827Z"
   },
   {
    "duration": 24,
    "start_time": "2022-07-28T15:00:26.857Z"
   },
   {
    "duration": 133,
    "start_time": "2022-07-28T15:00:26.883Z"
   },
   {
    "duration": 8,
    "start_time": "2022-07-28T15:00:27.017Z"
   },
   {
    "duration": 12,
    "start_time": "2022-07-28T15:00:27.027Z"
   },
   {
    "duration": 77,
    "start_time": "2022-07-28T15:00:27.040Z"
   },
   {
    "duration": 54,
    "start_time": "2022-07-28T15:00:33.541Z"
   },
   {
    "duration": 1314,
    "start_time": "2022-07-28T15:00:45.836Z"
   },
   {
    "duration": 16,
    "start_time": "2022-07-28T15:01:10.772Z"
   },
   {
    "duration": 6,
    "start_time": "2022-07-28T15:01:45.110Z"
   },
   {
    "duration": 20,
    "start_time": "2022-07-28T15:01:47.704Z"
   },
   {
    "duration": 4,
    "start_time": "2022-07-28T15:02:09.121Z"
   },
   {
    "duration": 17,
    "start_time": "2022-07-28T15:02:10.093Z"
   },
   {
    "duration": 7,
    "start_time": "2022-07-28T15:14:31.520Z"
   },
   {
    "duration": 16,
    "start_time": "2022-07-28T15:14:33.300Z"
   },
   {
    "duration": 17,
    "start_time": "2022-07-28T15:14:36.260Z"
   },
   {
    "duration": 5,
    "start_time": "2022-07-28T15:14:36.925Z"
   },
   {
    "duration": 20,
    "start_time": "2022-07-28T15:14:39.352Z"
   },
   {
    "duration": 6,
    "start_time": "2022-07-28T15:14:57.256Z"
   },
   {
    "duration": 21,
    "start_time": "2022-07-28T15:15:17.521Z"
   },
   {
    "duration": 5,
    "start_time": "2022-07-28T15:16:05.720Z"
   },
   {
    "duration": 20,
    "start_time": "2022-07-28T15:16:08.750Z"
   },
   {
    "duration": 4,
    "start_time": "2022-07-28T15:16:17.780Z"
   },
   {
    "duration": 21,
    "start_time": "2022-07-28T15:16:19.492Z"
   },
   {
    "duration": 5,
    "start_time": "2022-07-28T15:16:26.560Z"
   },
   {
    "duration": 16,
    "start_time": "2022-07-28T15:16:27.712Z"
   },
   {
    "duration": 6,
    "start_time": "2022-07-28T15:20:45.390Z"
   },
   {
    "duration": 6,
    "start_time": "2022-07-28T15:20:51.547Z"
   },
   {
    "duration": 25,
    "start_time": "2022-07-28T15:24:41.140Z"
   },
   {
    "duration": 25,
    "start_time": "2022-07-28T15:24:58.340Z"
   },
   {
    "duration": 53,
    "start_time": "2022-07-31T10:32:59.888Z"
   },
   {
    "duration": 692,
    "start_time": "2022-07-31T10:34:34.972Z"
   },
   {
    "duration": 24,
    "start_time": "2022-07-31T10:34:35.666Z"
   },
   {
    "duration": 16,
    "start_time": "2022-07-31T10:34:35.692Z"
   },
   {
    "duration": 13,
    "start_time": "2022-07-31T10:34:35.711Z"
   },
   {
    "duration": 44,
    "start_time": "2022-07-31T10:34:35.736Z"
   },
   {
    "duration": 5,
    "start_time": "2022-07-31T10:34:35.782Z"
   },
   {
    "duration": 24,
    "start_time": "2022-07-31T10:34:35.790Z"
   },
   {
    "duration": 24,
    "start_time": "2022-07-31T10:34:35.815Z"
   },
   {
    "duration": 32,
    "start_time": "2022-07-31T10:34:35.843Z"
   },
   {
    "duration": 5,
    "start_time": "2022-07-31T10:34:35.881Z"
   },
   {
    "duration": 54,
    "start_time": "2022-07-31T10:34:35.888Z"
   },
   {
    "duration": 10,
    "start_time": "2022-07-31T10:34:35.944Z"
   },
   {
    "duration": 5,
    "start_time": "2022-07-31T10:34:35.956Z"
   },
   {
    "duration": 27,
    "start_time": "2022-07-31T10:34:35.963Z"
   },
   {
    "duration": 51,
    "start_time": "2022-07-31T10:34:35.991Z"
   },
   {
    "duration": 17,
    "start_time": "2022-07-31T10:34:36.047Z"
   },
   {
    "duration": 9,
    "start_time": "2022-07-31T10:34:36.067Z"
   },
   {
    "duration": 20,
    "start_time": "2022-07-31T10:34:36.078Z"
   },
   {
    "duration": 12,
    "start_time": "2022-07-31T10:34:36.100Z"
   },
   {
    "duration": 6,
    "start_time": "2022-07-31T10:34:36.115Z"
   },
   {
    "duration": 36,
    "start_time": "2022-07-31T10:34:36.122Z"
   },
   {
    "duration": 31,
    "start_time": "2022-07-31T10:34:36.161Z"
   },
   {
    "duration": 43,
    "start_time": "2022-07-31T10:34:36.194Z"
   },
   {
    "duration": 13,
    "start_time": "2022-07-31T10:34:36.241Z"
   },
   {
    "duration": 20,
    "start_time": "2022-07-31T10:34:36.256Z"
   },
   {
    "duration": 9,
    "start_time": "2022-07-31T10:34:36.278Z"
   },
   {
    "duration": 47,
    "start_time": "2022-07-31T10:34:36.289Z"
   },
   {
    "duration": 10,
    "start_time": "2022-07-31T10:34:36.341Z"
   },
   {
    "duration": 7,
    "start_time": "2022-07-31T10:34:36.352Z"
   },
   {
    "duration": 7,
    "start_time": "2022-07-31T10:34:36.361Z"
   },
   {
    "duration": 8,
    "start_time": "2022-07-31T10:34:36.369Z"
   },
   {
    "duration": 140,
    "start_time": "2022-07-31T10:34:36.378Z"
   },
   {
    "duration": 18,
    "start_time": "2022-07-31T10:34:36.522Z"
   },
   {
    "duration": 28,
    "start_time": "2022-07-31T10:34:36.542Z"
   },
   {
    "duration": 84,
    "start_time": "2022-07-31T10:34:36.572Z"
   },
   {
    "duration": 24,
    "start_time": "2022-07-31T10:35:08.595Z"
   },
   {
    "duration": 26,
    "start_time": "2022-07-31T10:35:11.712Z"
   },
   {
    "duration": 10,
    "start_time": "2022-07-31T10:35:26.034Z"
   },
   {
    "duration": 15,
    "start_time": "2022-07-31T10:42:41.897Z"
   },
   {
    "duration": 70,
    "start_time": "2022-07-31T10:48:16.841Z"
   },
   {
    "duration": 22,
    "start_time": "2022-07-31T10:48:31.848Z"
   },
   {
    "duration": 11,
    "start_time": "2022-07-31T10:52:13.447Z"
   },
   {
    "duration": 12,
    "start_time": "2022-07-31T10:52:40.988Z"
   },
   {
    "duration": 14,
    "start_time": "2022-07-31T10:53:05.434Z"
   },
   {
    "duration": 21,
    "start_time": "2022-07-31T10:54:18.446Z"
   },
   {
    "duration": 20,
    "start_time": "2022-07-31T10:54:38.022Z"
   },
   {
    "duration": 58,
    "start_time": "2022-07-31T10:56:55.035Z"
   },
   {
    "duration": 45,
    "start_time": "2022-07-31T10:56:58.335Z"
   },
   {
    "duration": 81,
    "start_time": "2022-07-31T10:57:01.273Z"
   },
   {
    "duration": 12,
    "start_time": "2022-07-31T10:57:09.241Z"
   },
   {
    "duration": 19,
    "start_time": "2022-07-31T10:58:43.822Z"
   },
   {
    "duration": 14,
    "start_time": "2022-07-31T11:01:05.102Z"
   },
   {
    "duration": 13,
    "start_time": "2022-07-31T11:01:10.246Z"
   },
   {
    "duration": 16,
    "start_time": "2022-07-31T11:01:26.584Z"
   },
   {
    "duration": 12,
    "start_time": "2022-07-31T11:02:48.659Z"
   },
   {
    "duration": 19,
    "start_time": "2022-07-31T11:02:54.715Z"
   },
   {
    "duration": 467,
    "start_time": "2022-07-31T11:03:01.891Z"
   },
   {
    "duration": 23,
    "start_time": "2022-07-31T11:03:02.360Z"
   },
   {
    "duration": 16,
    "start_time": "2022-07-31T11:03:02.385Z"
   },
   {
    "duration": 34,
    "start_time": "2022-07-31T11:03:02.402Z"
   },
   {
    "duration": 33,
    "start_time": "2022-07-31T11:03:02.438Z"
   },
   {
    "duration": 4,
    "start_time": "2022-07-31T11:03:02.473Z"
   },
   {
    "duration": 15,
    "start_time": "2022-07-31T11:03:02.478Z"
   },
   {
    "duration": 5,
    "start_time": "2022-07-31T11:03:02.495Z"
   },
   {
    "duration": 12,
    "start_time": "2022-07-31T11:03:02.501Z"
   },
   {
    "duration": 21,
    "start_time": "2022-07-31T11:03:02.522Z"
   },
   {
    "duration": 48,
    "start_time": "2022-07-31T11:03:02.545Z"
   },
   {
    "duration": 10,
    "start_time": "2022-07-31T11:03:02.594Z"
   },
   {
    "duration": 9,
    "start_time": "2022-07-31T11:03:02.606Z"
   },
   {
    "duration": 39,
    "start_time": "2022-07-31T11:03:02.618Z"
   },
   {
    "duration": 16,
    "start_time": "2022-07-31T11:03:02.659Z"
   },
   {
    "duration": 21,
    "start_time": "2022-07-31T11:03:02.677Z"
   },
   {
    "duration": 38,
    "start_time": "2022-07-31T11:03:02.699Z"
   },
   {
    "duration": 26,
    "start_time": "2022-07-31T11:03:02.738Z"
   },
   {
    "duration": 15,
    "start_time": "2022-07-31T11:03:02.766Z"
   },
   {
    "duration": 15,
    "start_time": "2022-07-31T11:03:02.783Z"
   },
   {
    "duration": 16,
    "start_time": "2022-07-31T11:03:02.800Z"
   },
   {
    "duration": 36,
    "start_time": "2022-07-31T11:03:02.817Z"
   },
   {
    "duration": 21,
    "start_time": "2022-07-31T11:03:02.855Z"
   },
   {
    "duration": 12,
    "start_time": "2022-07-31T11:03:02.878Z"
   },
   {
    "duration": 22,
    "start_time": "2022-07-31T11:03:02.892Z"
   },
   {
    "duration": 39,
    "start_time": "2022-07-31T11:03:02.916Z"
   },
   {
    "duration": 8,
    "start_time": "2022-07-31T11:03:02.956Z"
   },
   {
    "duration": 41,
    "start_time": "2022-07-31T11:03:02.966Z"
   },
   {
    "duration": 9,
    "start_time": "2022-07-31T11:03:03.011Z"
   },
   {
    "duration": 13,
    "start_time": "2022-07-31T11:03:03.022Z"
   },
   {
    "duration": 16,
    "start_time": "2022-07-31T11:03:03.045Z"
   },
   {
    "duration": 9,
    "start_time": "2022-07-31T11:03:03.063Z"
   },
   {
    "duration": 127,
    "start_time": "2022-07-31T11:03:03.074Z"
   },
   {
    "duration": 10,
    "start_time": "2022-07-31T11:03:03.203Z"
   },
   {
    "duration": 32,
    "start_time": "2022-07-31T11:03:03.214Z"
   },
   {
    "duration": 62,
    "start_time": "2022-07-31T11:03:03.248Z"
   },
   {
    "duration": 12,
    "start_time": "2022-07-31T11:03:18.363Z"
   },
   {
    "duration": 14,
    "start_time": "2022-07-31T11:03:31.740Z"
   },
   {
    "duration": 15,
    "start_time": "2022-07-31T11:04:00.042Z"
   },
   {
    "duration": 494,
    "start_time": "2022-07-31T12:31:57.454Z"
   },
   {
    "duration": 24,
    "start_time": "2022-07-31T12:31:57.950Z"
   },
   {
    "duration": 17,
    "start_time": "2022-07-31T12:31:57.975Z"
   },
   {
    "duration": 30,
    "start_time": "2022-07-31T12:31:57.994Z"
   },
   {
    "duration": 60,
    "start_time": "2022-07-31T12:31:58.030Z"
   },
   {
    "duration": 5,
    "start_time": "2022-07-31T12:31:58.092Z"
   },
   {
    "duration": 23,
    "start_time": "2022-07-31T12:31:58.099Z"
   },
   {
    "duration": 25,
    "start_time": "2022-07-31T12:31:58.124Z"
   },
   {
    "duration": 10,
    "start_time": "2022-07-31T12:31:58.151Z"
   },
   {
    "duration": 10,
    "start_time": "2022-07-31T12:31:58.162Z"
   },
   {
    "duration": 35,
    "start_time": "2022-07-31T12:31:58.174Z"
   },
   {
    "duration": 26,
    "start_time": "2022-07-31T12:31:58.211Z"
   },
   {
    "duration": 8,
    "start_time": "2022-07-31T12:31:58.239Z"
   },
   {
    "duration": 20,
    "start_time": "2022-07-31T12:31:58.250Z"
   },
   {
    "duration": 18,
    "start_time": "2022-07-31T12:31:58.272Z"
   },
   {
    "duration": 12,
    "start_time": "2022-07-31T12:31:58.292Z"
   },
   {
    "duration": 16,
    "start_time": "2022-07-31T12:31:58.323Z"
   },
   {
    "duration": 15,
    "start_time": "2022-07-31T12:31:58.341Z"
   },
   {
    "duration": 8,
    "start_time": "2022-07-31T12:31:58.358Z"
   },
   {
    "duration": 6,
    "start_time": "2022-07-31T12:31:58.368Z"
   },
   {
    "duration": 11,
    "start_time": "2022-07-31T12:31:58.376Z"
   },
   {
    "duration": 20,
    "start_time": "2022-07-31T12:31:58.389Z"
   },
   {
    "duration": 31,
    "start_time": "2022-07-31T12:31:58.411Z"
   },
   {
    "duration": 13,
    "start_time": "2022-07-31T12:31:58.444Z"
   },
   {
    "duration": 14,
    "start_time": "2022-07-31T12:31:58.458Z"
   },
   {
    "duration": 16,
    "start_time": "2022-07-31T12:31:58.474Z"
   },
   {
    "duration": 95,
    "start_time": "2022-07-31T12:31:58.492Z"
   },
   {
    "duration": 0,
    "start_time": "2022-07-31T12:31:58.589Z"
   },
   {
    "duration": 0,
    "start_time": "2022-07-31T12:31:58.591Z"
   },
   {
    "duration": 1,
    "start_time": "2022-07-31T12:31:58.591Z"
   },
   {
    "duration": 0,
    "start_time": "2022-07-31T12:31:58.592Z"
   },
   {
    "duration": 0,
    "start_time": "2022-07-31T12:31:58.593Z"
   },
   {
    "duration": 0,
    "start_time": "2022-07-31T12:31:58.595Z"
   },
   {
    "duration": 0,
    "start_time": "2022-07-31T12:31:58.596Z"
   },
   {
    "duration": 0,
    "start_time": "2022-07-31T12:31:58.597Z"
   },
   {
    "duration": 17,
    "start_time": "2022-07-31T12:33:15.953Z"
   },
   {
    "duration": 14,
    "start_time": "2022-07-31T12:33:27.686Z"
   },
   {
    "duration": 21,
    "start_time": "2022-07-31T12:35:04.358Z"
   },
   {
    "duration": 16,
    "start_time": "2022-07-31T12:42:32.053Z"
   },
   {
    "duration": 26,
    "start_time": "2022-07-31T12:42:54.928Z"
   },
   {
    "duration": 18,
    "start_time": "2022-07-31T12:43:10.940Z"
   },
   {
    "duration": 14,
    "start_time": "2022-07-31T12:47:30.735Z"
   },
   {
    "duration": 16,
    "start_time": "2022-07-31T12:47:50.226Z"
   },
   {
    "duration": 24,
    "start_time": "2022-07-31T12:48:09.473Z"
   }
  ],
  "colab": {
   "name": "dpp_template_part2.ipynb",
   "provenance": []
  },
  "kernelspec": {
   "display_name": "Python 3 (ipykernel)",
   "language": "python",
   "name": "python3"
  },
  "language_info": {
   "codemirror_mode": {
    "name": "ipython",
    "version": 3
   },
   "file_extension": ".py",
   "mimetype": "text/x-python",
   "name": "python",
   "nbconvert_exporter": "python",
   "pygments_lexer": "ipython3",
   "version": "3.9.13"
  },
  "toc": {
   "base_numbering": 1,
   "nav_menu": {},
   "number_sections": true,
   "sideBar": true,
   "skip_h1_title": true,
   "title_cell": "Table of Contents",
   "title_sidebar": "Contents",
   "toc_cell": false,
   "toc_position": {},
   "toc_section_display": true,
   "toc_window_display": false
  }
 },
 "nbformat": 4,
 "nbformat_minor": 5
}
